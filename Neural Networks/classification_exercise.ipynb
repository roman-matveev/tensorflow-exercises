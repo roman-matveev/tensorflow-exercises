{
 "cells": [
  {
   "cell_type": "markdown",
   "metadata": {
    "collapsed": true
   },
   "source": [
    "# Classification Exercise"
   ]
  },
  {
   "cell_type": "markdown",
   "metadata": {},
   "source": [
    "We'll be working with some California Census Data, we'll be trying to use various features of an individual to predict what class of income they belogn in (>50k or <=50k). \n",
    "\n",
    "Here is some information about the data:"
   ]
  },
  {
   "cell_type": "markdown",
   "metadata": {},
   "source": [
    "<table>\n",
    "<thead>\n",
    "<tr>\n",
    "<th>Column Name</th>\n",
    "<th>Type</th>\n",
    "<th>Description</th>\n",
    "</tr>\n",
    "</thead>\n",
    "<tbody>\n",
    "<tr>\n",
    "<td>age</td>\n",
    "<td>Continuous</td>\n",
    "<td>The age of the individual</td>\n",
    "</tr>\n",
    "<tr>\n",
    "<td>workclass</td>\n",
    "<td>Categorical</td>\n",
    "<td>The type of employer the  individual has (government,  military, private, etc.).</td>\n",
    "</tr>\n",
    "<tr>\n",
    "<td>fnlwgt</td>\n",
    "<td>Continuous</td>\n",
    "<td>The number of people the census  takers believe that observation  represents (sample weight). This  variable will not be used.</td>\n",
    "</tr>\n",
    "<tr>\n",
    "<td>education</td>\n",
    "<td>Categorical</td>\n",
    "<td>The highest level of education  achieved for that individual.</td>\n",
    "</tr>\n",
    "<tr>\n",
    "<td>education_num</td>\n",
    "<td>Continuous</td>\n",
    "<td>The highest level of education in  numerical form.</td>\n",
    "</tr>\n",
    "<tr>\n",
    "<td>marital_status</td>\n",
    "<td>Categorical</td>\n",
    "<td>Marital status of the individual.</td>\n",
    "</tr>\n",
    "<tr>\n",
    "<td>occupation</td>\n",
    "<td>Categorical</td>\n",
    "<td>The occupation of the individual.</td>\n",
    "</tr>\n",
    "<tr>\n",
    "<td>relationship</td>\n",
    "<td>Categorical</td>\n",
    "<td>Wife, Own-child, Husband,  Not-in-family, Other-relative,  Unmarried.</td>\n",
    "</tr>\n",
    "<tr>\n",
    "<td>race</td>\n",
    "<td>Categorical</td>\n",
    "<td>White, Asian-Pac-Islander,  Amer-Indian-Eskimo, Other, Black.</td>\n",
    "</tr>\n",
    "<tr>\n",
    "<td>gender</td>\n",
    "<td>Categorical</td>\n",
    "<td>Female, Male.</td>\n",
    "</tr>\n",
    "<tr>\n",
    "<td>capital_gain</td>\n",
    "<td>Continuous</td>\n",
    "<td>Capital gains recorded.</td>\n",
    "</tr>\n",
    "<tr>\n",
    "<td>capital_loss</td>\n",
    "<td>Continuous</td>\n",
    "<td>Capital Losses recorded.</td>\n",
    "</tr>\n",
    "<tr>\n",
    "<td>hours_per_week</td>\n",
    "<td>Continuous</td>\n",
    "<td>Hours worked per week.</td>\n",
    "</tr>\n",
    "<tr>\n",
    "<td>native_country</td>\n",
    "<td>Categorical</td>\n",
    "<td>Country of origin of the  individual.</td>\n",
    "</tr>\n",
    "<tr>\n",
    "<td>income</td>\n",
    "<td>Categorical</td>\n",
    "<td>\"&gt;50K\" or \"&lt;=50K\", meaning  whether the person makes more  than \\$50,000 annually.</td>\n",
    "</tr>\n",
    "</tbody>\n",
    "</table>"
   ]
  },
  {
   "cell_type": "markdown",
   "metadata": {},
   "source": [
    "## Follow the Directions in Bold. If you get stuck, check out the solutions lecture."
   ]
  },
  {
   "cell_type": "markdown",
   "metadata": {},
   "source": [
    "### THE DATA"
   ]
  },
  {
   "cell_type": "markdown",
   "metadata": {},
   "source": [
    "** Read in the census_data.csv data with pandas**"
   ]
  },
  {
   "cell_type": "code",
   "execution_count": 1,
   "metadata": {
    "collapsed": true
   },
   "outputs": [],
   "source": [
    "import pandas as pd"
   ]
  },
  {
   "cell_type": "code",
   "execution_count": 2,
   "metadata": {
    "collapsed": true
   },
   "outputs": [],
   "source": [
    "census = pd.read_csv('../TensorFlow-Bootcamp/02-TensorFlow-Basics/census_data.csv')"
   ]
  },
  {
   "cell_type": "code",
   "execution_count": 3,
   "metadata": {},
   "outputs": [
    {
     "data": {
      "text/html": [
       "<div>\n",
       "<style scoped>\n",
       "    .dataframe tbody tr th:only-of-type {\n",
       "        vertical-align: middle;\n",
       "    }\n",
       "\n",
       "    .dataframe tbody tr th {\n",
       "        vertical-align: top;\n",
       "    }\n",
       "\n",
       "    .dataframe thead th {\n",
       "        text-align: right;\n",
       "    }\n",
       "</style>\n",
       "<table border=\"1\" class=\"dataframe\">\n",
       "  <thead>\n",
       "    <tr style=\"text-align: right;\">\n",
       "      <th></th>\n",
       "      <th>age</th>\n",
       "      <th>workclass</th>\n",
       "      <th>education</th>\n",
       "      <th>education_num</th>\n",
       "      <th>marital_status</th>\n",
       "      <th>occupation</th>\n",
       "      <th>relationship</th>\n",
       "      <th>race</th>\n",
       "      <th>gender</th>\n",
       "      <th>capital_gain</th>\n",
       "      <th>capital_loss</th>\n",
       "      <th>hours_per_week</th>\n",
       "      <th>native_country</th>\n",
       "      <th>income_bracket</th>\n",
       "    </tr>\n",
       "  </thead>\n",
       "  <tbody>\n",
       "    <tr>\n",
       "      <th>0</th>\n",
       "      <td>39</td>\n",
       "      <td>State-gov</td>\n",
       "      <td>Bachelors</td>\n",
       "      <td>13</td>\n",
       "      <td>Never-married</td>\n",
       "      <td>Adm-clerical</td>\n",
       "      <td>Not-in-family</td>\n",
       "      <td>White</td>\n",
       "      <td>Male</td>\n",
       "      <td>2174</td>\n",
       "      <td>0</td>\n",
       "      <td>40</td>\n",
       "      <td>United-States</td>\n",
       "      <td>&lt;=50K</td>\n",
       "    </tr>\n",
       "    <tr>\n",
       "      <th>1</th>\n",
       "      <td>50</td>\n",
       "      <td>Self-emp-not-inc</td>\n",
       "      <td>Bachelors</td>\n",
       "      <td>13</td>\n",
       "      <td>Married-civ-spouse</td>\n",
       "      <td>Exec-managerial</td>\n",
       "      <td>Husband</td>\n",
       "      <td>White</td>\n",
       "      <td>Male</td>\n",
       "      <td>0</td>\n",
       "      <td>0</td>\n",
       "      <td>13</td>\n",
       "      <td>United-States</td>\n",
       "      <td>&lt;=50K</td>\n",
       "    </tr>\n",
       "    <tr>\n",
       "      <th>2</th>\n",
       "      <td>38</td>\n",
       "      <td>Private</td>\n",
       "      <td>HS-grad</td>\n",
       "      <td>9</td>\n",
       "      <td>Divorced</td>\n",
       "      <td>Handlers-cleaners</td>\n",
       "      <td>Not-in-family</td>\n",
       "      <td>White</td>\n",
       "      <td>Male</td>\n",
       "      <td>0</td>\n",
       "      <td>0</td>\n",
       "      <td>40</td>\n",
       "      <td>United-States</td>\n",
       "      <td>&lt;=50K</td>\n",
       "    </tr>\n",
       "    <tr>\n",
       "      <th>3</th>\n",
       "      <td>53</td>\n",
       "      <td>Private</td>\n",
       "      <td>11th</td>\n",
       "      <td>7</td>\n",
       "      <td>Married-civ-spouse</td>\n",
       "      <td>Handlers-cleaners</td>\n",
       "      <td>Husband</td>\n",
       "      <td>Black</td>\n",
       "      <td>Male</td>\n",
       "      <td>0</td>\n",
       "      <td>0</td>\n",
       "      <td>40</td>\n",
       "      <td>United-States</td>\n",
       "      <td>&lt;=50K</td>\n",
       "    </tr>\n",
       "    <tr>\n",
       "      <th>4</th>\n",
       "      <td>28</td>\n",
       "      <td>Private</td>\n",
       "      <td>Bachelors</td>\n",
       "      <td>13</td>\n",
       "      <td>Married-civ-spouse</td>\n",
       "      <td>Prof-specialty</td>\n",
       "      <td>Wife</td>\n",
       "      <td>Black</td>\n",
       "      <td>Female</td>\n",
       "      <td>0</td>\n",
       "      <td>0</td>\n",
       "      <td>40</td>\n",
       "      <td>Cuba</td>\n",
       "      <td>&lt;=50K</td>\n",
       "    </tr>\n",
       "  </tbody>\n",
       "</table>\n",
       "</div>"
      ],
      "text/plain": [
       "   age          workclass   education  education_num       marital_status  \\\n",
       "0   39          State-gov   Bachelors             13        Never-married   \n",
       "1   50   Self-emp-not-inc   Bachelors             13   Married-civ-spouse   \n",
       "2   38            Private     HS-grad              9             Divorced   \n",
       "3   53            Private        11th              7   Married-civ-spouse   \n",
       "4   28            Private   Bachelors             13   Married-civ-spouse   \n",
       "\n",
       "           occupation    relationship    race   gender  capital_gain  \\\n",
       "0        Adm-clerical   Not-in-family   White     Male          2174   \n",
       "1     Exec-managerial         Husband   White     Male             0   \n",
       "2   Handlers-cleaners   Not-in-family   White     Male             0   \n",
       "3   Handlers-cleaners         Husband   Black     Male             0   \n",
       "4      Prof-specialty            Wife   Black   Female             0   \n",
       "\n",
       "   capital_loss  hours_per_week  native_country income_bracket  \n",
       "0             0              40   United-States          <=50K  \n",
       "1             0              13   United-States          <=50K  \n",
       "2             0              40   United-States          <=50K  \n",
       "3             0              40   United-States          <=50K  \n",
       "4             0              40            Cuba          <=50K  "
      ]
     },
     "execution_count": 3,
     "metadata": {},
     "output_type": "execute_result"
    }
   ],
   "source": [
    "census.head()"
   ]
  },
  {
   "cell_type": "markdown",
   "metadata": {},
   "source": [
    "** TensorFlow won't be able to understand strings as labels, you'll need to use pandas .apply() method to apply a custom function that converts them to 0s and 1s. This might be hard if you aren't very familiar with pandas, so feel free to take a peek at the solutions for this part.**\n",
    "\n",
    "** Convert the Label column to 0s and 1s instead of strings.**"
   ]
  },
  {
   "cell_type": "code",
   "execution_count": 4,
   "metadata": {},
   "outputs": [
    {
     "data": {
      "text/plain": [
       "array([' <=50K', ' >50K'], dtype=object)"
      ]
     },
     "execution_count": 4,
     "metadata": {},
     "output_type": "execute_result"
    }
   ],
   "source": [
    "census['income_bracket'].unique()"
   ]
  },
  {
   "cell_type": "code",
   "execution_count": 6,
   "metadata": {},
   "outputs": [],
   "source": [
    "def label_fix(label):\n",
    "    if label == ' <=50K':\n",
    "        return 0\n",
    "    else:\n",
    "        return 1"
   ]
  },
  {
   "cell_type": "code",
   "execution_count": 7,
   "metadata": {
    "collapsed": true
   },
   "outputs": [],
   "source": [
    "census['income_bracket'] = census['income_bracket'].apply(label_fix)"
   ]
  },
  {
   "cell_type": "code",
   "execution_count": 9,
   "metadata": {},
   "outputs": [
    {
     "data": {
      "text/html": [
       "<div>\n",
       "<style scoped>\n",
       "    .dataframe tbody tr th:only-of-type {\n",
       "        vertical-align: middle;\n",
       "    }\n",
       "\n",
       "    .dataframe tbody tr th {\n",
       "        vertical-align: top;\n",
       "    }\n",
       "\n",
       "    .dataframe thead th {\n",
       "        text-align: right;\n",
       "    }\n",
       "</style>\n",
       "<table border=\"1\" class=\"dataframe\">\n",
       "  <thead>\n",
       "    <tr style=\"text-align: right;\">\n",
       "      <th></th>\n",
       "      <th>age</th>\n",
       "      <th>workclass</th>\n",
       "      <th>education</th>\n",
       "      <th>education_num</th>\n",
       "      <th>marital_status</th>\n",
       "      <th>occupation</th>\n",
       "      <th>relationship</th>\n",
       "      <th>race</th>\n",
       "      <th>gender</th>\n",
       "      <th>capital_gain</th>\n",
       "      <th>capital_loss</th>\n",
       "      <th>hours_per_week</th>\n",
       "      <th>native_country</th>\n",
       "      <th>income_bracket</th>\n",
       "    </tr>\n",
       "  </thead>\n",
       "  <tbody>\n",
       "    <tr>\n",
       "      <th>0</th>\n",
       "      <td>39</td>\n",
       "      <td>State-gov</td>\n",
       "      <td>Bachelors</td>\n",
       "      <td>13</td>\n",
       "      <td>Never-married</td>\n",
       "      <td>Adm-clerical</td>\n",
       "      <td>Not-in-family</td>\n",
       "      <td>White</td>\n",
       "      <td>Male</td>\n",
       "      <td>2174</td>\n",
       "      <td>0</td>\n",
       "      <td>40</td>\n",
       "      <td>United-States</td>\n",
       "      <td>0</td>\n",
       "    </tr>\n",
       "    <tr>\n",
       "      <th>1</th>\n",
       "      <td>50</td>\n",
       "      <td>Self-emp-not-inc</td>\n",
       "      <td>Bachelors</td>\n",
       "      <td>13</td>\n",
       "      <td>Married-civ-spouse</td>\n",
       "      <td>Exec-managerial</td>\n",
       "      <td>Husband</td>\n",
       "      <td>White</td>\n",
       "      <td>Male</td>\n",
       "      <td>0</td>\n",
       "      <td>0</td>\n",
       "      <td>13</td>\n",
       "      <td>United-States</td>\n",
       "      <td>0</td>\n",
       "    </tr>\n",
       "    <tr>\n",
       "      <th>2</th>\n",
       "      <td>38</td>\n",
       "      <td>Private</td>\n",
       "      <td>HS-grad</td>\n",
       "      <td>9</td>\n",
       "      <td>Divorced</td>\n",
       "      <td>Handlers-cleaners</td>\n",
       "      <td>Not-in-family</td>\n",
       "      <td>White</td>\n",
       "      <td>Male</td>\n",
       "      <td>0</td>\n",
       "      <td>0</td>\n",
       "      <td>40</td>\n",
       "      <td>United-States</td>\n",
       "      <td>0</td>\n",
       "    </tr>\n",
       "    <tr>\n",
       "      <th>3</th>\n",
       "      <td>53</td>\n",
       "      <td>Private</td>\n",
       "      <td>11th</td>\n",
       "      <td>7</td>\n",
       "      <td>Married-civ-spouse</td>\n",
       "      <td>Handlers-cleaners</td>\n",
       "      <td>Husband</td>\n",
       "      <td>Black</td>\n",
       "      <td>Male</td>\n",
       "      <td>0</td>\n",
       "      <td>0</td>\n",
       "      <td>40</td>\n",
       "      <td>United-States</td>\n",
       "      <td>0</td>\n",
       "    </tr>\n",
       "    <tr>\n",
       "      <th>4</th>\n",
       "      <td>28</td>\n",
       "      <td>Private</td>\n",
       "      <td>Bachelors</td>\n",
       "      <td>13</td>\n",
       "      <td>Married-civ-spouse</td>\n",
       "      <td>Prof-specialty</td>\n",
       "      <td>Wife</td>\n",
       "      <td>Black</td>\n",
       "      <td>Female</td>\n",
       "      <td>0</td>\n",
       "      <td>0</td>\n",
       "      <td>40</td>\n",
       "      <td>Cuba</td>\n",
       "      <td>0</td>\n",
       "    </tr>\n",
       "  </tbody>\n",
       "</table>\n",
       "</div>"
      ],
      "text/plain": [
       "   age          workclass   education  education_num       marital_status  \\\n",
       "0   39          State-gov   Bachelors             13        Never-married   \n",
       "1   50   Self-emp-not-inc   Bachelors             13   Married-civ-spouse   \n",
       "2   38            Private     HS-grad              9             Divorced   \n",
       "3   53            Private        11th              7   Married-civ-spouse   \n",
       "4   28            Private   Bachelors             13   Married-civ-spouse   \n",
       "\n",
       "           occupation    relationship    race   gender  capital_gain  \\\n",
       "0        Adm-clerical   Not-in-family   White     Male          2174   \n",
       "1     Exec-managerial         Husband   White     Male             0   \n",
       "2   Handlers-cleaners   Not-in-family   White     Male             0   \n",
       "3   Handlers-cleaners         Husband   Black     Male             0   \n",
       "4      Prof-specialty            Wife   Black   Female             0   \n",
       "\n",
       "   capital_loss  hours_per_week  native_country  income_bracket  \n",
       "0             0              40   United-States               0  \n",
       "1             0              13   United-States               0  \n",
       "2             0              40   United-States               0  \n",
       "3             0              40   United-States               0  \n",
       "4             0              40            Cuba               0  "
      ]
     },
     "execution_count": 9,
     "metadata": {},
     "output_type": "execute_result"
    }
   ],
   "source": [
    "census.head()"
   ]
  },
  {
   "cell_type": "markdown",
   "metadata": {},
   "source": [
    "### Perform a Train Test Split on the Data"
   ]
  },
  {
   "cell_type": "code",
   "execution_count": 10,
   "metadata": {
    "collapsed": true
   },
   "outputs": [],
   "source": [
    "from sklearn.model_selection import train_test_split"
   ]
  },
  {
   "cell_type": "code",
   "execution_count": 11,
   "metadata": {
    "collapsed": true
   },
   "outputs": [],
   "source": [
    "x_data = census.drop('income_bracket', axis=1)"
   ]
  },
  {
   "cell_type": "code",
   "execution_count": 12,
   "metadata": {
    "collapsed": true
   },
   "outputs": [],
   "source": [
    "y_labels = census['income_bracket']"
   ]
  },
  {
   "cell_type": "code",
   "execution_count": 14,
   "metadata": {
    "collapsed": true
   },
   "outputs": [],
   "source": [
    "X_train, X_test, y_train, y_test = train_test_split(\n",
    "    x_data, y_labels, test_size=0.3, random_state=101)"
   ]
  },
  {
   "cell_type": "markdown",
   "metadata": {},
   "source": [
    "### Create the Feature Columns for tf.esitmator\n",
    "\n",
    "** Take note of categorical vs continuous values! **"
   ]
  },
  {
   "cell_type": "code",
   "execution_count": 15,
   "metadata": {},
   "outputs": [
    {
     "data": {
      "text/plain": [
       "Index(['age', 'workclass', 'education', 'education_num', 'marital_status',\n",
       "       'occupation', 'relationship', 'race', 'gender', 'capital_gain',\n",
       "       'capital_loss', 'hours_per_week', 'native_country', 'income_bracket'],\n",
       "      dtype='object')"
      ]
     },
     "execution_count": 15,
     "metadata": {},
     "output_type": "execute_result"
    }
   ],
   "source": [
    "census.columns"
   ]
  },
  {
   "cell_type": "markdown",
   "metadata": {},
   "source": [
    "** Import Tensorflow **"
   ]
  },
  {
   "cell_type": "code",
   "execution_count": 16,
   "metadata": {
    "collapsed": true
   },
   "outputs": [],
   "source": [
    "import tensorflow as tf"
   ]
  },
  {
   "cell_type": "markdown",
   "metadata": {
    "collapsed": true
   },
   "source": [
    "** Create the tf.feature_columns for the categorical values. Use vocabulary lists or just use hash buckets. **"
   ]
  },
  {
   "cell_type": "code",
   "execution_count": 18,
   "metadata": {
    "collapsed": true
   },
   "outputs": [],
   "source": [
    "gender = tf.feature_column.categorical_column_with_vocabulary_list(\n",
    "    \"gender\", ['Female', 'Male'])"
   ]
  },
  {
   "cell_type": "code",
   "execution_count": 19,
   "metadata": {
    "collapsed": true
   },
   "outputs": [],
   "source": [
    "occupation = tf.feature_column.categorical_column_with_hash_bucket(\"occupation\", hash_bucket_size=1000)\n",
    "marital_status = tf.feature_column.categorical_column_with_hash_bucket(\"marital_status\", hash_bucket_size=1000)\n",
    "relationship = tf.feature_column.categorical_column_with_hash_bucket(\"relationship\", hash_bucket_size=1000)\n",
    "education = tf.feature_column.categorical_column_with_hash_bucket(\"education\", hash_bucket_size=1000)\n",
    "workclass = tf.feature_column.categorical_column_with_hash_bucket(\"workclass\", hash_bucket_size=1000)\n",
    "native_country = tf.feature_column.categorical_column_with_hash_bucket(\"native_country\", hash_bucket_size=1000)"
   ]
  },
  {
   "cell_type": "markdown",
   "metadata": {},
   "source": [
    "** Create the continuous feature_columns for the continuous values using numeric_column **"
   ]
  },
  {
   "cell_type": "code",
   "execution_count": 20,
   "metadata": {
    "collapsed": true
   },
   "outputs": [],
   "source": [
    "age = tf.feature_column.numeric_column(\"age\")\n",
    "education_num = tf.feature_column.numeric_column(\"education_num\")\n",
    "capital_gain = tf.feature_column.numeric_column(\"capital_gain\")\n",
    "capital_loss = tf.feature_column.numeric_column(\"capital_loss\")\n",
    "hours_per_week = tf.feature_column.numeric_column(\"hours_per_week\")"
   ]
  },
  {
   "cell_type": "markdown",
   "metadata": {},
   "source": [
    "** Put all these variables into a single list with the variable name feat_cols **"
   ]
  },
  {
   "cell_type": "code",
   "execution_count": 21,
   "metadata": {
    "collapsed": true
   },
   "outputs": [],
   "source": [
    "feat_cols = [gender, occupation, marital_status, \n",
    "             relationship, education, workclass, \n",
    "             native_country, age, education_num, \n",
    "             capital_gain, capital_loss, hours_per_week]"
   ]
  },
  {
   "cell_type": "markdown",
   "metadata": {},
   "source": [
    "### Create Input Function\n",
    "\n",
    "** Batch_size is up to you. But do make sure to shuffle!**"
   ]
  },
  {
   "cell_type": "code",
   "execution_count": 22,
   "metadata": {
    "collapsed": true
   },
   "outputs": [],
   "source": [
    "input_func = tf.estimator.inputs.pandas_input_fn(\n",
    "    x=X_train, y=y_train, batch_size=100, num_epochs=None, shuffle=True)"
   ]
  },
  {
   "cell_type": "markdown",
   "metadata": {},
   "source": [
    "#### Create your model with tf.estimator\n",
    "\n",
    "**Create a LinearClassifier.(If you want to use a DNNClassifier, keep in mind you'll need to create embedded columns out of the cateogrical feature that use strings, check out the previous lecture on this for more info.)**"
   ]
  },
  {
   "cell_type": "code",
   "execution_count": 23,
   "metadata": {},
   "outputs": [
    {
     "name": "stdout",
     "output_type": "stream",
     "text": [
      "INFO:tensorflow:Using default config.\n",
      "WARNING:tensorflow:Using temporary folder as model directory: /var/folders/vg/y0swt34s3cb8w1ktrb_crlph0000gn/T/tmp6uj3qsgg\n",
      "INFO:tensorflow:Using config: {'_model_dir': '/var/folders/vg/y0swt34s3cb8w1ktrb_crlph0000gn/T/tmp6uj3qsgg', '_tf_random_seed': None, '_save_summary_steps': 100, '_save_checkpoints_steps': None, '_save_checkpoints_secs': 600, '_session_config': allow_soft_placement: true\n",
      "graph_options {\n",
      "  rewrite_options {\n",
      "    meta_optimizer_iterations: ONE\n",
      "  }\n",
      "}\n",
      ", '_keep_checkpoint_max': 5, '_keep_checkpoint_every_n_hours': 10000, '_log_step_count_steps': 100, '_train_distribute': None, '_device_fn': None, '_protocol': None, '_eval_distribute': None, '_experimental_distribute': None, '_service': None, '_cluster_spec': <tensorflow.python.training.server_lib.ClusterSpec object at 0x115f797f0>, '_task_type': 'worker', '_task_id': 0, '_global_id_in_cluster': 0, '_master': '', '_evaluation_master': '', '_is_chief': True, '_num_ps_replicas': 0, '_num_worker_replicas': 1}\n"
     ]
    }
   ],
   "source": [
    "model = tf.estimator.LinearClassifier(feature_columns=feat_cols)"
   ]
  },
  {
   "cell_type": "markdown",
   "metadata": {},
   "source": [
    "** Train your model on the data, for at least 5000 steps. **"
   ]
  },
  {
   "cell_type": "code",
   "execution_count": 24,
   "metadata": {
    "scrolled": true
   },
   "outputs": [
    {
     "name": "stdout",
     "output_type": "stream",
     "text": [
      "WARNING:tensorflow:From /Users/Roman/Library/Python/3.6/lib/python/site-packages/tensorflow/python/estimator/inputs/queues/feeding_queue_runner.py:62: QueueRunner.__init__ (from tensorflow.python.training.queue_runner_impl) is deprecated and will be removed in a future version.\n",
      "Instructions for updating:\n",
      "To construct input pipelines, use the `tf.data` module.\n",
      "WARNING:tensorflow:From /Users/Roman/Library/Python/3.6/lib/python/site-packages/tensorflow/python/estimator/inputs/queues/feeding_functions.py:500: add_queue_runner (from tensorflow.python.training.queue_runner_impl) is deprecated and will be removed in a future version.\n",
      "Instructions for updating:\n",
      "To construct input pipelines, use the `tf.data` module.\n",
      "INFO:tensorflow:Calling model_fn.\n",
      "INFO:tensorflow:Done calling model_fn.\n",
      "INFO:tensorflow:Create CheckpointSaverHook.\n",
      "INFO:tensorflow:Graph was finalized.\n",
      "INFO:tensorflow:Running local_init_op.\n",
      "INFO:tensorflow:Done running local_init_op.\n",
      "WARNING:tensorflow:From /Users/Roman/Library/Python/3.6/lib/python/site-packages/tensorflow/python/training/monitored_session.py:804: start_queue_runners (from tensorflow.python.training.queue_runner_impl) is deprecated and will be removed in a future version.\n",
      "Instructions for updating:\n",
      "To construct input pipelines, use the `tf.data` module.\n",
      "INFO:tensorflow:Saving checkpoints for 0 into /var/folders/vg/y0swt34s3cb8w1ktrb_crlph0000gn/T/tmp6uj3qsgg/model.ckpt.\n",
      "INFO:tensorflow:loss = 69.31472, step = 1\n",
      "INFO:tensorflow:global_step/sec: 195.421\n",
      "INFO:tensorflow:loss = 655.6296, step = 101 (0.512 sec)\n",
      "INFO:tensorflow:global_step/sec: 416.44\n",
      "INFO:tensorflow:loss = 35.91214, step = 201 (0.242 sec)\n",
      "INFO:tensorflow:global_step/sec: 354.959\n",
      "INFO:tensorflow:loss = 237.61298, step = 301 (0.281 sec)\n",
      "INFO:tensorflow:global_step/sec: 423.121\n",
      "INFO:tensorflow:loss = 609.3675, step = 401 (0.235 sec)\n",
      "INFO:tensorflow:global_step/sec: 431.298\n",
      "INFO:tensorflow:loss = 26.703983, step = 501 (0.232 sec)\n",
      "INFO:tensorflow:global_step/sec: 441.845\n",
      "INFO:tensorflow:loss = 189.88542, step = 601 (0.228 sec)\n",
      "INFO:tensorflow:global_step/sec: 402.074\n",
      "INFO:tensorflow:loss = 58.80246, step = 701 (0.249 sec)\n",
      "INFO:tensorflow:global_step/sec: 378.139\n",
      "INFO:tensorflow:loss = 754.6675, step = 801 (0.265 sec)\n",
      "INFO:tensorflow:global_step/sec: 401.33\n",
      "INFO:tensorflow:loss = 238.06847, step = 901 (0.249 sec)\n",
      "INFO:tensorflow:global_step/sec: 322.989\n",
      "INFO:tensorflow:loss = 54.962463, step = 1001 (0.310 sec)\n",
      "INFO:tensorflow:global_step/sec: 394.325\n",
      "INFO:tensorflow:loss = 81.6143, step = 1101 (0.254 sec)\n",
      "INFO:tensorflow:global_step/sec: 383.615\n",
      "INFO:tensorflow:loss = 59.80142, step = 1201 (0.260 sec)\n",
      "INFO:tensorflow:global_step/sec: 432.124\n",
      "INFO:tensorflow:loss = 360.32138, step = 1301 (0.231 sec)\n",
      "INFO:tensorflow:global_step/sec: 388.196\n",
      "INFO:tensorflow:loss = 47.115734, step = 1401 (0.258 sec)\n",
      "INFO:tensorflow:global_step/sec: 431.501\n",
      "INFO:tensorflow:loss = 46.611347, step = 1501 (0.232 sec)\n",
      "INFO:tensorflow:global_step/sec: 359.557\n",
      "INFO:tensorflow:loss = 77.8538, step = 1601 (0.277 sec)\n",
      "INFO:tensorflow:global_step/sec: 284.418\n",
      "INFO:tensorflow:loss = 244.18732, step = 1701 (0.355 sec)\n",
      "INFO:tensorflow:global_step/sec: 385.819\n",
      "INFO:tensorflow:loss = 30.970201, step = 1801 (0.258 sec)\n",
      "INFO:tensorflow:global_step/sec: 383.289\n",
      "INFO:tensorflow:loss = 257.9151, step = 1901 (0.260 sec)\n",
      "INFO:tensorflow:global_step/sec: 366.354\n",
      "INFO:tensorflow:loss = 39.449844, step = 2001 (0.273 sec)\n",
      "INFO:tensorflow:global_step/sec: 421.966\n",
      "INFO:tensorflow:loss = 38.886974, step = 2101 (0.237 sec)\n",
      "INFO:tensorflow:global_step/sec: 420.228\n",
      "INFO:tensorflow:loss = 67.77691, step = 2201 (0.238 sec)\n",
      "INFO:tensorflow:global_step/sec: 415.877\n",
      "INFO:tensorflow:loss = 63.2577, step = 2301 (0.241 sec)\n",
      "INFO:tensorflow:global_step/sec: 422.205\n",
      "INFO:tensorflow:loss = 54.507027, step = 2401 (0.236 sec)\n",
      "INFO:tensorflow:global_step/sec: 415.987\n",
      "INFO:tensorflow:loss = 64.75358, step = 2501 (0.241 sec)\n",
      "INFO:tensorflow:global_step/sec: 421.734\n",
      "INFO:tensorflow:loss = 104.42044, step = 2601 (0.235 sec)\n",
      "INFO:tensorflow:global_step/sec: 418.708\n",
      "INFO:tensorflow:loss = 162.68279, step = 2701 (0.241 sec)\n",
      "INFO:tensorflow:global_step/sec: 422.893\n",
      "INFO:tensorflow:loss = 44.05438, step = 2801 (0.236 sec)\n",
      "INFO:tensorflow:global_step/sec: 422.665\n",
      "INFO:tensorflow:loss = 89.048615, step = 2901 (0.237 sec)\n",
      "INFO:tensorflow:global_step/sec: 417.89\n",
      "INFO:tensorflow:loss = 63.841473, step = 3001 (0.240 sec)\n",
      "INFO:tensorflow:global_step/sec: 368.834\n",
      "INFO:tensorflow:loss = 40.589767, step = 3101 (0.272 sec)\n",
      "INFO:tensorflow:global_step/sec: 387.592\n",
      "INFO:tensorflow:loss = 49.813843, step = 3201 (0.258 sec)\n",
      "INFO:tensorflow:global_step/sec: 382.139\n",
      "INFO:tensorflow:loss = 74.61237, step = 3301 (0.260 sec)\n",
      "INFO:tensorflow:global_step/sec: 379.721\n",
      "INFO:tensorflow:loss = 55.999718, step = 3401 (0.264 sec)\n",
      "INFO:tensorflow:global_step/sec: 405.521\n",
      "INFO:tensorflow:loss = 55.2995, step = 3501 (0.245 sec)\n",
      "INFO:tensorflow:global_step/sec: 393.91\n",
      "INFO:tensorflow:loss = 190.92963, step = 3601 (0.254 sec)\n",
      "INFO:tensorflow:global_step/sec: 389.764\n",
      "INFO:tensorflow:loss = 34.898987, step = 3701 (0.256 sec)\n",
      "INFO:tensorflow:global_step/sec: 390.13\n",
      "INFO:tensorflow:loss = 85.42413, step = 3801 (0.259 sec)\n",
      "INFO:tensorflow:global_step/sec: 398.344\n",
      "INFO:tensorflow:loss = 156.16016, step = 3901 (0.251 sec)\n",
      "INFO:tensorflow:global_step/sec: 403.387\n",
      "INFO:tensorflow:loss = 103.55231, step = 4001 (0.247 sec)\n",
      "INFO:tensorflow:global_step/sec: 362.468\n",
      "INFO:tensorflow:loss = 76.62342, step = 4101 (0.276 sec)\n",
      "INFO:tensorflow:global_step/sec: 394.112\n",
      "INFO:tensorflow:loss = 115.10022, step = 4201 (0.255 sec)\n",
      "INFO:tensorflow:global_step/sec: 281.197\n",
      "INFO:tensorflow:loss = 27.873205, step = 4301 (0.355 sec)\n",
      "INFO:tensorflow:global_step/sec: 350.815\n",
      "INFO:tensorflow:loss = 34.201553, step = 4401 (0.283 sec)\n",
      "INFO:tensorflow:global_step/sec: 398.505\n",
      "INFO:tensorflow:loss = 43.70304, step = 4501 (0.253 sec)\n",
      "INFO:tensorflow:global_step/sec: 380.617\n",
      "INFO:tensorflow:loss = 39.46953, step = 4601 (0.262 sec)\n",
      "INFO:tensorflow:global_step/sec: 317.199\n",
      "INFO:tensorflow:loss = 35.94108, step = 4701 (0.316 sec)\n",
      "INFO:tensorflow:global_step/sec: 347.227\n",
      "INFO:tensorflow:loss = 52.802925, step = 4801 (0.289 sec)\n",
      "INFO:tensorflow:global_step/sec: 343.005\n",
      "INFO:tensorflow:loss = 37.198772, step = 4901 (0.290 sec)\n",
      "INFO:tensorflow:global_step/sec: 323.305\n",
      "INFO:tensorflow:loss = 43.535725, step = 5001 (0.309 sec)\n",
      "INFO:tensorflow:global_step/sec: 320.626\n",
      "INFO:tensorflow:loss = 55.9414, step = 5101 (0.311 sec)\n",
      "INFO:tensorflow:global_step/sec: 378.583\n",
      "INFO:tensorflow:loss = 46.488018, step = 5201 (0.265 sec)\n",
      "INFO:tensorflow:global_step/sec: 357.604\n",
      "INFO:tensorflow:loss = 28.573801, step = 5301 (0.281 sec)\n",
      "INFO:tensorflow:global_step/sec: 311.354\n",
      "INFO:tensorflow:loss = 78.45482, step = 5401 (0.321 sec)\n",
      "INFO:tensorflow:global_step/sec: 334.157\n",
      "INFO:tensorflow:loss = 30.890827, step = 5501 (0.298 sec)\n",
      "INFO:tensorflow:global_step/sec: 373.427\n",
      "INFO:tensorflow:loss = 40.533916, step = 5601 (0.268 sec)\n",
      "INFO:tensorflow:global_step/sec: 407.714\n",
      "INFO:tensorflow:loss = 23.668633, step = 5701 (0.245 sec)\n",
      "INFO:tensorflow:global_step/sec: 423.451\n",
      "INFO:tensorflow:loss = 35.500996, step = 5801 (0.237 sec)\n",
      "INFO:tensorflow:global_step/sec: 411.482\n",
      "INFO:tensorflow:loss = 29.4416, step = 5901 (0.243 sec)\n",
      "INFO:tensorflow:global_step/sec: 415.744\n",
      "INFO:tensorflow:loss = 208.58385, step = 6001 (0.239 sec)\n",
      "INFO:tensorflow:global_step/sec: 408.939\n",
      "INFO:tensorflow:loss = 120.426384, step = 6101 (0.247 sec)\n",
      "INFO:tensorflow:global_step/sec: 405.234\n",
      "INFO:tensorflow:loss = 40.079834, step = 6201 (0.246 sec)\n",
      "INFO:tensorflow:global_step/sec: 411.002\n",
      "INFO:tensorflow:loss = 179.41022, step = 6301 (0.243 sec)\n",
      "INFO:tensorflow:global_step/sec: 408.889\n",
      "INFO:tensorflow:loss = 39.726257, step = 6401 (0.245 sec)\n",
      "INFO:tensorflow:global_step/sec: 376.522\n",
      "INFO:tensorflow:loss = 37.388344, step = 6501 (0.264 sec)\n",
      "INFO:tensorflow:global_step/sec: 388.623\n",
      "INFO:tensorflow:loss = 25.25711, step = 6601 (0.259 sec)\n",
      "INFO:tensorflow:global_step/sec: 398.46\n",
      "INFO:tensorflow:loss = 40.590153, step = 6701 (0.249 sec)\n",
      "INFO:tensorflow:global_step/sec: 419.881\n",
      "INFO:tensorflow:loss = 33.54809, step = 6801 (0.240 sec)\n",
      "INFO:tensorflow:global_step/sec: 421.857\n",
      "INFO:tensorflow:loss = 73.96449, step = 6901 (0.237 sec)\n"
     ]
    },
    {
     "name": "stdout",
     "output_type": "stream",
     "text": [
      "INFO:tensorflow:global_step/sec: 385.193\n",
      "INFO:tensorflow:loss = 32.057877, step = 7001 (0.259 sec)\n",
      "INFO:tensorflow:global_step/sec: 342.665\n",
      "INFO:tensorflow:loss = 47.611008, step = 7101 (0.292 sec)\n",
      "INFO:tensorflow:global_step/sec: 347.552\n",
      "INFO:tensorflow:loss = 37.085854, step = 7201 (0.288 sec)\n",
      "INFO:tensorflow:global_step/sec: 348.67\n",
      "INFO:tensorflow:loss = 200.05553, step = 7301 (0.287 sec)\n",
      "INFO:tensorflow:global_step/sec: 390.891\n",
      "INFO:tensorflow:loss = 38.696476, step = 7401 (0.256 sec)\n",
      "INFO:tensorflow:global_step/sec: 409.71\n",
      "INFO:tensorflow:loss = 51.194122, step = 7501 (0.244 sec)\n",
      "INFO:tensorflow:global_step/sec: 398.219\n",
      "INFO:tensorflow:loss = 32.098217, step = 7601 (0.252 sec)\n",
      "INFO:tensorflow:global_step/sec: 412.352\n",
      "INFO:tensorflow:loss = 39.422, step = 7701 (0.243 sec)\n",
      "INFO:tensorflow:global_step/sec: 394.317\n",
      "INFO:tensorflow:loss = 51.662548, step = 7801 (0.252 sec)\n",
      "INFO:tensorflow:global_step/sec: 416.792\n",
      "INFO:tensorflow:loss = 30.585796, step = 7901 (0.239 sec)\n",
      "INFO:tensorflow:global_step/sec: 394.176\n",
      "INFO:tensorflow:loss = 48.384987, step = 8001 (0.255 sec)\n",
      "INFO:tensorflow:global_step/sec: 406.962\n",
      "INFO:tensorflow:loss = 27.841623, step = 8101 (0.247 sec)\n",
      "INFO:tensorflow:global_step/sec: 391.492\n",
      "INFO:tensorflow:loss = 62.217915, step = 8201 (0.253 sec)\n",
      "INFO:tensorflow:global_step/sec: 415.437\n",
      "INFO:tensorflow:loss = 40.483444, step = 8301 (0.242 sec)\n",
      "INFO:tensorflow:global_step/sec: 413.923\n",
      "INFO:tensorflow:loss = 26.352346, step = 8401 (0.242 sec)\n",
      "INFO:tensorflow:global_step/sec: 423.894\n",
      "INFO:tensorflow:loss = 37.114815, step = 8501 (0.236 sec)\n",
      "INFO:tensorflow:global_step/sec: 424.798\n",
      "INFO:tensorflow:loss = 26.830708, step = 8601 (0.233 sec)\n",
      "INFO:tensorflow:global_step/sec: 417.166\n",
      "INFO:tensorflow:loss = 30.090097, step = 8701 (0.241 sec)\n",
      "INFO:tensorflow:global_step/sec: 434.113\n",
      "INFO:tensorflow:loss = 70.95928, step = 8801 (0.231 sec)\n",
      "INFO:tensorflow:global_step/sec: 422.417\n",
      "INFO:tensorflow:loss = 44.6619, step = 8901 (0.237 sec)\n",
      "INFO:tensorflow:global_step/sec: 427.056\n",
      "INFO:tensorflow:loss = 31.91114, step = 9001 (0.234 sec)\n",
      "INFO:tensorflow:global_step/sec: 420.387\n",
      "INFO:tensorflow:loss = 49.170807, step = 9101 (0.238 sec)\n",
      "INFO:tensorflow:global_step/sec: 428.962\n",
      "INFO:tensorflow:loss = 50.135525, step = 9201 (0.233 sec)\n",
      "INFO:tensorflow:global_step/sec: 435.207\n",
      "INFO:tensorflow:loss = 139.88327, step = 9301 (0.229 sec)\n",
      "INFO:tensorflow:global_step/sec: 431.462\n",
      "INFO:tensorflow:loss = 28.933779, step = 9401 (0.233 sec)\n",
      "INFO:tensorflow:global_step/sec: 467.954\n",
      "INFO:tensorflow:loss = 40.58718, step = 9501 (0.214 sec)\n",
      "INFO:tensorflow:global_step/sec: 409.393\n",
      "INFO:tensorflow:loss = 29.162525, step = 9601 (0.243 sec)\n",
      "INFO:tensorflow:global_step/sec: 465.276\n",
      "INFO:tensorflow:loss = 46.572144, step = 9701 (0.216 sec)\n",
      "INFO:tensorflow:global_step/sec: 461.247\n",
      "INFO:tensorflow:loss = 68.93278, step = 9801 (0.217 sec)\n",
      "INFO:tensorflow:global_step/sec: 470.677\n",
      "INFO:tensorflow:loss = 35.893326, step = 9901 (0.212 sec)\n",
      "INFO:tensorflow:Saving checkpoints for 10000 into /var/folders/vg/y0swt34s3cb8w1ktrb_crlph0000gn/T/tmp6uj3qsgg/model.ckpt.\n",
      "INFO:tensorflow:Loss for final step: 30.711672.\n"
     ]
    },
    {
     "data": {
      "text/plain": [
       "<tensorflow.python.estimator.canned.linear.LinearClassifier at 0x115f79278>"
      ]
     },
     "execution_count": 24,
     "metadata": {},
     "output_type": "execute_result"
    }
   ],
   "source": [
    "model.train(input_fn=input_func, steps=10000)"
   ]
  },
  {
   "cell_type": "markdown",
   "metadata": {},
   "source": [
    "### Evaluation\n",
    "\n",
    "** Create a prediction input function. Remember to only supprt X_test data and keep shuffle=False. **"
   ]
  },
  {
   "cell_type": "code",
   "execution_count": 25,
   "metadata": {
    "collapsed": true
   },
   "outputs": [],
   "source": [
    "pred_func = tf.estimator.inputs.pandas_input_fn(\n",
    "    x=X_test, batch_size=len(X_test), shuffle=False)"
   ]
  },
  {
   "cell_type": "markdown",
   "metadata": {},
   "source": [
    "** Use model.predict() and pass in your input function. This will produce a generator of predictions, which you can then transform into a list, with list() **"
   ]
  },
  {
   "cell_type": "code",
   "execution_count": 27,
   "metadata": {},
   "outputs": [],
   "source": [
    "pred_gen = model.predict(input_fn=pred_func)"
   ]
  },
  {
   "cell_type": "code",
   "execution_count": 28,
   "metadata": {},
   "outputs": [
    {
     "name": "stdout",
     "output_type": "stream",
     "text": [
      "INFO:tensorflow:Calling model_fn.\n",
      "INFO:tensorflow:Done calling model_fn.\n",
      "INFO:tensorflow:Graph was finalized.\n",
      "INFO:tensorflow:Restoring parameters from /var/folders/vg/y0swt34s3cb8w1ktrb_crlph0000gn/T/tmp6uj3qsgg/model.ckpt-10000\n",
      "INFO:tensorflow:Running local_init_op.\n",
      "INFO:tensorflow:Done running local_init_op.\n"
     ]
    }
   ],
   "source": [
    "preds = list(pred_gen)"
   ]
  },
  {
   "cell_type": "markdown",
   "metadata": {},
   "source": [
    "** Each item in your list will look like this: **"
   ]
  },
  {
   "cell_type": "code",
   "execution_count": 33,
   "metadata": {},
   "outputs": [
    {
     "data": {
      "text/plain": [
       "{'class_ids': array([0]),\n",
       " 'classes': array([b'0'], dtype=object),\n",
       " 'logistic': array([0.30089864], dtype=float32),\n",
       " 'logits': array([-0.84302235], dtype=float32),\n",
       " 'probabilities': array([0.6991013, 0.3008986], dtype=float32)}"
      ]
     },
     "execution_count": 33,
     "metadata": {},
     "output_type": "execute_result"
    }
   ],
   "source": [
    "preds[0]"
   ]
  },
  {
   "cell_type": "markdown",
   "metadata": {},
   "source": [
    "** Create a list of only the class_ids key values from the prediction list of dictionaries, these are the predictions you will use to compare against the real y_test values. **"
   ]
  },
  {
   "cell_type": "code",
   "execution_count": 34,
   "metadata": {
    "collapsed": true
   },
   "outputs": [],
   "source": [
    "final_preds = [pred['class_ids'][0] for pred in preds]"
   ]
  },
  {
   "cell_type": "code",
   "execution_count": 35,
   "metadata": {},
   "outputs": [
    {
     "data": {
      "text/plain": [
       "[0, 0, 0, 0, 1, 0, 0, 0, 0, 0]"
      ]
     },
     "execution_count": 35,
     "metadata": {},
     "output_type": "execute_result"
    }
   ],
   "source": [
    "final_preds[:10]"
   ]
  },
  {
   "cell_type": "markdown",
   "metadata": {},
   "source": [
    "** Import classification_report from sklearn.metrics and then see if you can figure out how to use it to easily get a full report of your model's performance on the test data. **"
   ]
  },
  {
   "cell_type": "code",
   "execution_count": 36,
   "metadata": {
    "collapsed": true
   },
   "outputs": [],
   "source": [
    "from sklearn.metrics import classification_report"
   ]
  },
  {
   "cell_type": "code",
   "execution_count": 37,
   "metadata": {},
   "outputs": [
    {
     "name": "stdout",
     "output_type": "stream",
     "text": [
      "             precision    recall  f1-score   support\n",
      "\n",
      "          0       0.89      0.91      0.90      7436\n",
      "          1       0.69      0.65      0.67      2333\n",
      "\n",
      "avg / total       0.84      0.85      0.85      9769\n",
      "\n"
     ]
    }
   ],
   "source": [
    "print(classification_report(y_test, final_preds))"
   ]
  },
  {
   "cell_type": "markdown",
   "metadata": {
    "collapsed": true
   },
   "source": [
    "# Great Job!"
   ]
  }
 ],
 "metadata": {
  "kernelspec": {
   "display_name": "Python 3",
   "language": "python",
   "name": "python3"
  },
  "language_info": {
   "codemirror_mode": {
    "name": "ipython",
    "version": 3
   },
   "file_extension": ".py",
   "mimetype": "text/x-python",
   "name": "python",
   "nbconvert_exporter": "python",
   "pygments_lexer": "ipython3",
   "version": "3.6.4"
  }
 },
 "nbformat": 4,
 "nbformat_minor": 2
}
