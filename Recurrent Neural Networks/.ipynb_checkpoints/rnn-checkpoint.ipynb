{
 "cells": [
  {
   "cell_type": "code",
   "execution_count": 1,
   "metadata": {
    "collapsed": true
   },
   "outputs": [],
   "source": [
    "import numpy as np\n",
    "import tensorflow as tf\n",
    "import matplotlib.pyplot as plt\n",
    "%matplotlib inline"
   ]
  },
  {
   "cell_type": "code",
   "execution_count": 2,
   "metadata": {
    "collapsed": true
   },
   "outputs": [],
   "source": [
    "class TimeSeriesData():\n",
    "    def __init__(self, num_points, xmin, xmax):\n",
    "        self.xmin = xmin\n",
    "        self.xmax = xmax\n",
    "        self.num_points = num_points\n",
    "        self.resolution = (xmax - xmin)/num_points\n",
    "        self.x_data = np.linspace(xmin, xmax, num_points)\n",
    "        self.y_true = np.sin(self.x_data)\n",
    "    \n",
    "    def return_true(self, x_series):\n",
    "        return np.sin(x_series)\n",
    "    \n",
    "    def next_batch(self, batch_size, steps, return_batch_ts=False):\n",
    "        # Get random starting point for each batch\n",
    "        random_start = np.random.rand(batch_size, 1)\n",
    "        \n",
    "        # Convert to time series\n",
    "        ts_start = random_start * (self.xmax - self.xmin - (steps * self.resolution))\n",
    "        \n",
    "        # Create batch time series on x-axis\n",
    "        batch_ts = ts_start + np.arange(0.0, steps + 1) * self.resolution\n",
    "        \n",
    "        # Create y data for time series x-axis\n",
    "        y_batch = np.sin(batch_ts)\n",
    "        \n",
    "        # Format for RNN\n",
    "        if return_batch_ts:\n",
    "            return (y_batch[:, :-1].reshape(-1, steps, 1), \n",
    "                    y_batch[:, 1:].reshape(-1, steps, 1), \n",
    "                    batch_ts)\n",
    "        else:\n",
    "            return (y_batch[:, :-1].reshape(-1, steps, 1), \n",
    "                    y_batch[:, 1:].reshape(-1, steps, 1))"
   ]
  },
  {
   "cell_type": "code",
   "execution_count": 3,
   "metadata": {},
   "outputs": [],
   "source": [
    "ts_data = TimeSeriesData(250, 0, 10)"
   ]
  },
  {
   "cell_type": "code",
   "execution_count": 4,
   "metadata": {},
   "outputs": [
    {
     "data": {
      "text/plain": [
       "[<matplotlib.lines.Line2D at 0x124253390>]"
      ]
     },
     "execution_count": 4,
     "metadata": {},
     "output_type": "execute_result"
    },
    {
     "data": {
      "image/png": "[encoded data removed]",
      "text/plain": [
       "<matplotlib.figure.Figure at 0x124206128>"
      ]
     },
     "metadata": {},
     "output_type": "display_data"
    }
   ],
   "source": [
    "plt.plot(ts_data.x_data, \n",
    "         ts_data.y_true)"
   ]
  },
  {
   "cell_type": "code",
   "execution_count": 5,
   "metadata": {
    "collapsed": true
   },
   "outputs": [],
   "source": [
    "num_time_steps = 30"
   ]
  },
  {
   "cell_type": "code",
   "execution_count": 6,
   "metadata": {},
   "outputs": [],
   "source": [
    "y1, y2, ts = ts_data.next_batch(1, num_time_steps, True)"
   ]
  },
  {
   "cell_type": "code",
   "execution_count": 7,
   "metadata": {},
   "outputs": [
    {
     "data": {
      "text/plain": [
       "array([[8.19220371, 8.23220371, 8.27220371, 8.31220371, 8.35220371,\n",
       "        8.39220371, 8.43220371, 8.47220371, 8.51220371, 8.55220371,\n",
       "        8.59220371, 8.63220371, 8.67220371, 8.71220371, 8.75220371,\n",
       "        8.79220371, 8.83220371, 8.87220371, 8.91220371, 8.95220371,\n",
       "        8.99220371, 9.03220371, 9.07220371, 9.11220371, 9.15220371,\n",
       "        9.19220371, 9.23220371, 9.27220371, 9.31220371, 9.35220371,\n",
       "        9.39220371]])"
      ]
     },
     "execution_count": 7,
     "metadata": {},
     "output_type": "execute_result"
    }
   ],
   "source": [
    "ts"
   ]
  },
  {
   "cell_type": "code",
   "execution_count": 8,
   "metadata": {},
   "outputs": [
    {
     "data": {
      "text/plain": [
       "(1, 31)"
      ]
     },
     "execution_count": 8,
     "metadata": {},
     "output_type": "execute_result"
    }
   ],
   "source": [
    "ts.shape"
   ]
  },
  {
   "cell_type": "code",
   "execution_count": 9,
   "metadata": {},
   "outputs": [
    {
     "data": {
      "text/plain": [
       "array([8.19220371, 8.23220371, 8.27220371, 8.31220371, 8.35220371,\n",
       "       8.39220371, 8.43220371, 8.47220371, 8.51220371, 8.55220371,\n",
       "       8.59220371, 8.63220371, 8.67220371, 8.71220371, 8.75220371,\n",
       "       8.79220371, 8.83220371, 8.87220371, 8.91220371, 8.95220371,\n",
       "       8.99220371, 9.03220371, 9.07220371, 9.11220371, 9.15220371,\n",
       "       9.19220371, 9.23220371, 9.27220371, 9.31220371, 9.35220371,\n",
       "       9.39220371])"
      ]
     },
     "execution_count": 9,
     "metadata": {},
     "output_type": "execute_result"
    }
   ],
   "source": [
    "ts.flatten()"
   ]
  },
  {
   "cell_type": "code",
   "execution_count": 10,
   "metadata": {},
   "outputs": [
    {
     "data": {
      "text/plain": [
       "(1, 31)"
      ]
     },
     "execution_count": 10,
     "metadata": {},
     "output_type": "execute_result"
    }
   ],
   "source": [
    "ts.shape"
   ]
  },
  {
   "cell_type": "code",
   "execution_count": 11,
   "metadata": {},
   "outputs": [
    {
     "data": {
      "text/plain": [
       "[<matplotlib.lines.Line2D at 0x12436dba8>]"
      ]
     },
     "execution_count": 11,
     "metadata": {},
     "output_type": "execute_result"
    },
    {
     "data": {
      "image/png": "[encoded data removed]",
      "text/plain": [
       "<matplotlib.figure.Figure at 0x1241f34e0>"
      ]
     },
     "metadata": {},
     "output_type": "display_data"
    }
   ],
   "source": [
    "plt.plot(ts.flatten()[1:], y2.flatten(), '*')"
   ]
  },
  {
   "cell_type": "code",
   "execution_count": 12,
   "metadata": {},
   "outputs": [
    {
     "data": {
      "image/png": "[encoded data removed]",
      "text/plain": [
       "<matplotlib.figure.Figure at 0x124345ef0>"
      ]
     },
     "metadata": {},
     "output_type": "display_data"
    }
   ],
   "source": [
    "plt.plot(ts_data.x_data, \n",
    "         ts_data.y_true, \n",
    "         label='sin(t)')\n",
    "plt.plot(ts.flatten()[1:], y2.flatten(), '*', label='Single Training Instance')\n",
    "plt.legend()\n",
    "plt.tight_layout()"
   ]
  },
  {
   "cell_type": "code",
   "execution_count": 13,
   "metadata": {
    "collapsed": true
   },
   "outputs": [],
   "source": [
    "train_instance = np.linspace(5, 5 + ts_data.resolution * (num_time_steps + 1), num_time_steps + 1)"
   ]
  },
  {
   "cell_type": "code",
   "execution_count": 14,
   "metadata": {},
   "outputs": [
    {
     "data": {
      "text/plain": [
       "array([5.        , 5.04133333, 5.08266667, 5.124     , 5.16533333,\n",
       "       5.20666667, 5.248     , 5.28933333, 5.33066667, 5.372     ,\n",
       "       5.41333333, 5.45466667, 5.496     , 5.53733333, 5.57866667,\n",
       "       5.62      , 5.66133333, 5.70266667, 5.744     , 5.78533333,\n",
       "       5.82666667, 5.868     , 5.90933333, 5.95066667, 5.992     ,\n",
       "       6.03333333, 6.07466667, 6.116     , 6.15733333, 6.19866667,\n",
       "       6.24      ])"
      ]
     },
     "execution_count": 14,
     "metadata": {},
     "output_type": "execute_result"
    }
   ],
   "source": [
    "train_instance"
   ]
  },
  {
   "cell_type": "code",
   "execution_count": 15,
   "metadata": {},
   "outputs": [
    {
     "data": {
      "text/plain": [
       "<matplotlib.legend.Legend at 0x1244ce978>"
      ]
     },
     "execution_count": 15,
     "metadata": {},
     "output_type": "execute_result"
    },
    {
     "data": {
      "image/png": "[encoded data removed]",
      "text/plain": [
       "<matplotlib.figure.Figure at 0x1242b2a90>"
      ]
     },
     "metadata": {},
     "output_type": "display_data"
    }
   ],
   "source": [
    "plt.title('A training instance')\n",
    "\n",
    "plt.plot(train_instance[:-1], \n",
    "         ts_data.return_true(train_instance[:-1]), \n",
    "         'bo', markersize=15, alpha=.5, label='Instance')\n",
    "\n",
    "plt.plot(train_instance[1:], \n",
    "         ts_data.return_true(train_instance[1:]), \n",
    "         'ko', markersize=7, label='Target')\n",
    "\n",
    "plt.legend()"
   ]
  },
  {
   "cell_type": "code",
   "execution_count": null,
   "metadata": {
    "collapsed": true
   },
   "outputs": [],
   "source": []
  },
  {
   "cell_type": "code",
   "execution_count": 16,
   "metadata": {
    "collapsed": true
   },
   "outputs": [],
   "source": [
    "# Constants\n",
    "num_inputs = 1\n",
    "num_neurons = 100\n",
    "num_outputs = 1\n",
    "learning_rate = .0001\n",
    "# learning_rate = .001\n",
    "num_train_iter = 2000\n",
    "batch_size = 1"
   ]
  },
  {
   "cell_type": "code",
   "execution_count": 17,
   "metadata": {
    "collapsed": true
   },
   "outputs": [],
   "source": [
    "# Placeholders\n",
    "x = tf.placeholder(tf.float32, [None, num_time_steps, num_inputs])\n",
    "y = tf.placeholder(tf.float32, [None, num_time_steps, num_outputs])"
   ]
  },
  {
   "cell_type": "code",
   "execution_count": 18,
   "metadata": {
    "collapsed": true
   },
   "outputs": [],
   "source": [
    "# RNN Cell Layer\n",
    "cell = tf.contrib.rnn.OutputProjectionWrapper(\n",
    "    tf.contrib.rnn.BasicRNNCell(num_units=num_neurons, activation=tf.nn.relu), \n",
    "#     tf.contrib.rnn.GRUCell(num_units=num_neurons, activation=tf.nn.relu), \n",
    "    output_size=num_outputs)"
   ]
  },
  {
   "cell_type": "code",
   "execution_count": 19,
   "metadata": {
    "collapsed": true
   },
   "outputs": [],
   "source": [
    "outputs, states = tf.nn.dynamic_rnn(cell, x, dtype=tf.float32)"
   ]
  },
  {
   "cell_type": "code",
   "execution_count": 20,
   "metadata": {
    "collapsed": true
   },
   "outputs": [],
   "source": [
    "#Loss Function\n",
    "loss = tf.reduce_mean(tf.square(outputs - y))"
   ]
  },
  {
   "cell_type": "code",
   "execution_count": 21,
   "metadata": {
    "collapsed": true
   },
   "outputs": [],
   "source": [
    "# Optimizer\n",
    "optimizer = tf.train.AdamOptimizer(learning_rate=learning_rate)\n",
    "train = optimizer.minimize(loss)"
   ]
  },
  {
   "cell_type": "code",
   "execution_count": 22,
   "metadata": {
    "collapsed": true
   },
   "outputs": [],
   "source": [
    "init = tf.global_variables_initializer()"
   ]
  },
  {
   "cell_type": "code",
   "execution_count": 23,
   "metadata": {
    "collapsed": true
   },
   "outputs": [],
   "source": [
    "saver = tf.train.Saver()"
   ]
  },
  {
   "cell_type": "code",
   "execution_count": 24,
   "metadata": {},
   "outputs": [
    {
     "name": "stdout",
     "output_type": "stream",
     "text": [
      "0 \tMSE 0.23564866\n",
      "100 \tMSE 0.04961512\n",
      "200 \tMSE 0.0057903817\n",
      "300 \tMSE 0.0061567677\n",
      "400 \tMSE 0.0042803083\n",
      "500 \tMSE 0.0021656353\n",
      "600 \tMSE 0.0031127732\n",
      "700 \tMSE 0.011482543\n",
      "800 \tMSE 0.009608451\n",
      "900 \tMSE 0.004521952\n",
      "1000 \tMSE 0.017764328\n",
      "1100 \tMSE 0.015210097\n",
      "1200 \tMSE 0.006496457\n",
      "1300 \tMSE 0.012939656\n",
      "1400 \tMSE 0.013141974\n",
      "1500 \tMSE 0.00027371466\n",
      "1600 \tMSE 0.0005167013\n",
      "1700 \tMSE 0.0037949786\n",
      "1800 \tMSE 0.008818488\n",
      "1900 \tMSE 0.0079888925\n"
     ]
    }
   ],
   "source": [
    "with tf.Session() as s:\n",
    "    s.run(init)\n",
    "    \n",
    "    for iteration in range(num_train_iter):\n",
    "        x_batch, y_batch = ts_data.next_batch(batch_size, num_time_steps)\n",
    "        s.run(train, feed_dict={x: x_batch, y: y_batch})\n",
    "        \n",
    "        if iteration % 100 == 0:\n",
    "            mse = loss.eval(feed_dict={x: x_batch, y: y_batch})\n",
    "            print(iteration, '\\tMSE', mse)\n",
    "    \n",
    "    saver.save(s, './rnn_time_series_model')"
   ]
  },
  {
   "cell_type": "code",
   "execution_count": 25,
   "metadata": {},
   "outputs": [
    {
     "name": "stdout",
     "output_type": "stream",
     "text": [
      "INFO:tensorflow:Restoring parameters from ./rnn_time_series_model\n"
     ]
    }
   ],
   "source": [
    "with tf.Session() as s:\n",
    "    saver.restore(s, './rnn_time_series_model')\n",
    "    x_new = np.sin(np.array(train_instance[:-1].reshape(-1, num_time_steps, num_inputs)))\n",
    "    y_pred = s.run(outputs, feed_dict={x: x_new})"
   ]
  },
  {
   "cell_type": "code",
   "execution_count": 26,
   "metadata": {},
   "outputs": [
    {
     "data": {
      "image/png": "[encoded data removed]",
      "text/plain": [
       "<matplotlib.figure.Figure at 0x128a5d908>"
      ]
     },
     "metadata": {},
     "output_type": "display_data"
    }
   ],
   "source": [
    "plt.title(\"Model test\")\n",
    "\n",
    "# Training instance\n",
    "plt.plot(train_instance[:-1], \n",
    "         np.sin(train_instance[:-1]), \n",
    "         'bo', markersize=15, alpha=.5, label='Training instance')\n",
    "\n",
    "# Target to predict (correct test values)\n",
    "plt.plot(train_instance[1:], \n",
    "         np.sin(train_instance[1:]), \n",
    "         'ko', markersize=10, label='Target')\n",
    "\n",
    "# Model's prediction\n",
    "plt.plot(train_instance[1:], \n",
    "         y_pred[0, :, 0], \n",
    "         'r.', markersize='10', label='Predictions')\n",
    "\n",
    "plt.xlabel('Time')\n",
    "plt.legend()\n",
    "plt.tight_layout()"
   ]
  },
  {
   "cell_type": "code",
   "execution_count": null,
   "metadata": {
    "collapsed": true
   },
   "outputs": [],
   "source": []
  },
  {
   "cell_type": "code",
   "execution_count": 27,
   "metadata": {},
   "outputs": [
    {
     "name": "stdout",
     "output_type": "stream",
     "text": [
      "INFO:tensorflow:Restoring parameters from ./rnn_time_series_model\n"
     ]
    }
   ],
   "source": [
    "with tf.Session() as s:\n",
    "    saver.restore(s, './rnn_time_series_model')\n",
    "    \n",
    "    # Seed with zeros\n",
    "    zero_seq_seed = [0. for i in range(num_time_steps)]\n",
    "    \n",
    "    for iteration in range(len(ts_data.x_data) - num_time_steps):\n",
    "        x_batch = np.array(zero_seq_seed[-num_time_steps:]).reshape(1, num_time_steps, 1)\n",
    "        y_pred = s.run(outputs, feed_dict={x: x_batch})\n",
    "        zero_seq_seed.append(y_pred[0, -1, 0])"
   ]
  },
  {
   "cell_type": "code",
   "execution_count": 28,
   "metadata": {},
   "outputs": [
    {
     "data": {
      "text/plain": [
       "Text(0,0.5,'Y')"
      ]
     },
     "execution_count": 28,
     "metadata": {},
     "output_type": "execute_result"
    },
    {
     "data": {
      "image/png": "[encoded data removed]",
      "text/plain": [
       "<matplotlib.figure.Figure at 0x124323e10>"
      ]
     },
     "metadata": {},
     "output_type": "display_data"
    }
   ],
   "source": [
    "plt.plot(ts_data.x_data, \n",
    "         zero_seq_seed, \n",
    "         'b-')\n",
    "\n",
    "plt.plot(ts_data.x_data[:num_time_steps], \n",
    "         zero_seq_seed[:num_time_steps], \n",
    "         'r', linewidth=3)\n",
    "\n",
    "plt.xlabel('Time')\n",
    "plt.ylabel('Y')"
   ]
  },
  {
   "cell_type": "code",
   "execution_count": 29,
   "metadata": {},
   "outputs": [
    {
     "name": "stdout",
     "output_type": "stream",
     "text": [
      "INFO:tensorflow:Restoring parameters from ./rnn_time_series_model\n"
     ]
    }
   ],
   "source": [
    "with tf.Session() as s:\n",
    "    saver.restore(s, './rnn_time_series_model')\n",
    "    \n",
    "    # Seed with zeros\n",
    "    training_instance = list(ts_data.y_true[:30])\n",
    "    \n",
    "    for iteration in range(len(ts_data.x_data) - num_time_steps):\n",
    "        x_batch = np.array(training_instance[-num_time_steps:]).reshape(1, num_time_steps, 1)\n",
    "        y_pred = s.run(outputs, feed_dict={x: x_batch})\n",
    "        training_instance.append(y_pred[0, -1, 0])"
   ]
  },
  {
   "cell_type": "code",
   "execution_count": 30,
   "metadata": {},
   "outputs": [
    {
     "data": {
      "text/plain": [
       "Text(0,0.5,'Y')"
      ]
     },
     "execution_count": 30,
     "metadata": {},
     "output_type": "execute_result"
    },
    {
     "data": {
      "image/png": "[encoded data removed]",
      "text/plain": [
       "<matplotlib.figure.Figure at 0x128af7438>"
      ]
     },
     "metadata": {},
     "output_type": "display_data"
    }
   ],
   "source": [
    "plt.plot(ts_data.x_data, \n",
    "         training_instance, \n",
    "         'b-')\n",
    "\n",
    "plt.plot(ts_data.x_data[:num_time_steps], \n",
    "         training_instance[:num_time_steps], \n",
    "         'r', linewidth=3)\n",
    "\n",
    "plt.xlabel('Time')\n",
    "plt.ylabel('Y')"
   ]
  },
  {
   "cell_type": "code",
   "execution_count": null,
   "metadata": {
    "collapsed": true
   },
   "outputs": [],
   "source": []
  }
 ],
 "metadata": {
  "kernelspec": {
   "display_name": "Python 3",
   "language": "python",
   "name": "python3"
  },
  "language_info": {
   "codemirror_mode": {
    "name": "ipython",
    "version": 3
   },
   "file_extension": ".py",
   "mimetype": "text/x-python",
   "name": "python",
   "nbconvert_exporter": "python",
   "pygments_lexer": "ipython3",
   "version": "3.6.4"
  }
 },
 "nbformat": 4,
 "nbformat_minor": 2
}
