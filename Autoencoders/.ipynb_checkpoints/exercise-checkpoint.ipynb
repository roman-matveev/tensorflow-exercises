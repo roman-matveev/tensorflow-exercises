{
 "cells": [
  {
   "cell_type": "markdown",
   "metadata": {},
   "source": [
    "# Linear Autoencoder for PCA - EXERCISE \n",
    "\n",
    "** Follow the bold instructions below to reduce a 30 dimensional data set for classification into a 2-dimensional dataset! Then use the color classes to see if you still kept the same level of class separation in the dimensionality reduction**"
   ]
  },
  {
   "cell_type": "markdown",
   "metadata": {},
   "source": [
    "## The Data\n",
    "\n",
    "** Import numpy, matplotlib, and pandas**"
   ]
  },
  {
   "cell_type": "code",
   "execution_count": 1,
   "metadata": {
    "collapsed": true
   },
   "outputs": [],
   "source": [
    "import numpy as np\n",
    "import pandas as pd\n",
    "import matplotlib.pyplot as plt\n",
    "%matplotlib inline"
   ]
  },
  {
   "cell_type": "markdown",
   "metadata": {},
   "source": [
    "** Use pandas to read in the csv file called anonymized_data.csv . It contains 500 rows and 30 columns of anonymized data along with 1 last column with a classification label, where the columns have been renamed to 4 letter codes.**"
   ]
  },
  {
   "cell_type": "code",
   "execution_count": 2,
   "metadata": {
    "collapsed": true
   },
   "outputs": [],
   "source": [
    "df = pd.read_csv('../TensorFlow-Bootcamp/05-Autoencoders/anonymized_data.csv')"
   ]
  },
  {
   "cell_type": "code",
   "execution_count": 3,
   "metadata": {},
   "outputs": [
    {
     "data": {
      "text/html": [
       "<div>\n",
       "<style scoped>\n",
       "    .dataframe tbody tr th:only-of-type {\n",
       "        vertical-align: middle;\n",
       "    }\n",
       "\n",
       "    .dataframe tbody tr th {\n",
       "        vertical-align: top;\n",
       "    }\n",
       "\n",
       "    .dataframe thead th {\n",
       "        text-align: right;\n",
       "    }\n",
       "</style>\n",
       "<table border=\"1\" class=\"dataframe\">\n",
       "  <thead>\n",
       "    <tr style=\"text-align: right;\">\n",
       "      <th></th>\n",
       "      <th>EJWY</th>\n",
       "      <th>VALM</th>\n",
       "      <th>EGXO</th>\n",
       "      <th>HTGR</th>\n",
       "      <th>SKRF</th>\n",
       "      <th>NNSZ</th>\n",
       "      <th>NYLC</th>\n",
       "      <th>GWID</th>\n",
       "      <th>TVUT</th>\n",
       "      <th>CJHI</th>\n",
       "      <th>...</th>\n",
       "      <th>LKKS</th>\n",
       "      <th>UOBF</th>\n",
       "      <th>VBHE</th>\n",
       "      <th>FRWU</th>\n",
       "      <th>NDYZ</th>\n",
       "      <th>QSBO</th>\n",
       "      <th>JDUB</th>\n",
       "      <th>TEVK</th>\n",
       "      <th>EZTM</th>\n",
       "      <th>Label</th>\n",
       "    </tr>\n",
       "  </thead>\n",
       "  <tbody>\n",
       "    <tr>\n",
       "      <th>0</th>\n",
       "      <td>-2.032145</td>\n",
       "      <td>1.019576</td>\n",
       "      <td>-9.658715</td>\n",
       "      <td>-6.210495</td>\n",
       "      <td>3.156823</td>\n",
       "      <td>7.457850</td>\n",
       "      <td>-5.313357</td>\n",
       "      <td>8.508296</td>\n",
       "      <td>3.959194</td>\n",
       "      <td>-5.246654</td>\n",
       "      <td>...</td>\n",
       "      <td>-2.209663</td>\n",
       "      <td>-10.340123</td>\n",
       "      <td>-7.697555</td>\n",
       "      <td>-5.932752</td>\n",
       "      <td>10.872688</td>\n",
       "      <td>0.081321</td>\n",
       "      <td>1.276316</td>\n",
       "      <td>5.281225</td>\n",
       "      <td>-0.516447</td>\n",
       "      <td>0.0</td>\n",
       "    </tr>\n",
       "    <tr>\n",
       "      <th>1</th>\n",
       "      <td>8.306217</td>\n",
       "      <td>6.649376</td>\n",
       "      <td>-0.960333</td>\n",
       "      <td>-4.094799</td>\n",
       "      <td>8.738965</td>\n",
       "      <td>-3.458797</td>\n",
       "      <td>7.016800</td>\n",
       "      <td>6.692765</td>\n",
       "      <td>0.898264</td>\n",
       "      <td>9.337643</td>\n",
       "      <td>...</td>\n",
       "      <td>0.851793</td>\n",
       "      <td>-9.678324</td>\n",
       "      <td>-6.071795</td>\n",
       "      <td>1.428194</td>\n",
       "      <td>-8.082792</td>\n",
       "      <td>-0.557089</td>\n",
       "      <td>-7.817282</td>\n",
       "      <td>-8.686722</td>\n",
       "      <td>-6.953100</td>\n",
       "      <td>1.0</td>\n",
       "    </tr>\n",
       "    <tr>\n",
       "      <th>2</th>\n",
       "      <td>6.570842</td>\n",
       "      <td>6.985462</td>\n",
       "      <td>-1.842621</td>\n",
       "      <td>-1.569599</td>\n",
       "      <td>10.039339</td>\n",
       "      <td>-3.623026</td>\n",
       "      <td>8.957619</td>\n",
       "      <td>7.577283</td>\n",
       "      <td>1.541255</td>\n",
       "      <td>7.161509</td>\n",
       "      <td>...</td>\n",
       "      <td>1.376085</td>\n",
       "      <td>-8.971164</td>\n",
       "      <td>-5.302191</td>\n",
       "      <td>2.898965</td>\n",
       "      <td>-8.746597</td>\n",
       "      <td>-0.520888</td>\n",
       "      <td>-7.350999</td>\n",
       "      <td>-8.925501</td>\n",
       "      <td>-7.051179</td>\n",
       "      <td>1.0</td>\n",
       "    </tr>\n",
       "    <tr>\n",
       "      <th>3</th>\n",
       "      <td>-1.139972</td>\n",
       "      <td>0.579422</td>\n",
       "      <td>-9.526530</td>\n",
       "      <td>-5.744928</td>\n",
       "      <td>4.834355</td>\n",
       "      <td>5.907235</td>\n",
       "      <td>-4.804137</td>\n",
       "      <td>6.798810</td>\n",
       "      <td>5.403670</td>\n",
       "      <td>-7.642857</td>\n",
       "      <td>...</td>\n",
       "      <td>0.270571</td>\n",
       "      <td>-8.640988</td>\n",
       "      <td>-8.105419</td>\n",
       "      <td>-5.079015</td>\n",
       "      <td>9.351282</td>\n",
       "      <td>0.641759</td>\n",
       "      <td>1.898083</td>\n",
       "      <td>3.904671</td>\n",
       "      <td>1.453499</td>\n",
       "      <td>0.0</td>\n",
       "    </tr>\n",
       "    <tr>\n",
       "      <th>4</th>\n",
       "      <td>-1.738104</td>\n",
       "      <td>0.234729</td>\n",
       "      <td>-11.558768</td>\n",
       "      <td>-7.181332</td>\n",
       "      <td>4.189626</td>\n",
       "      <td>7.765274</td>\n",
       "      <td>-2.189083</td>\n",
       "      <td>7.239925</td>\n",
       "      <td>3.135602</td>\n",
       "      <td>-6.211390</td>\n",
       "      <td>...</td>\n",
       "      <td>-0.013973</td>\n",
       "      <td>-9.437110</td>\n",
       "      <td>-6.475267</td>\n",
       "      <td>-5.708377</td>\n",
       "      <td>9.623080</td>\n",
       "      <td>1.802899</td>\n",
       "      <td>1.903705</td>\n",
       "      <td>4.188442</td>\n",
       "      <td>1.522362</td>\n",
       "      <td>0.0</td>\n",
       "    </tr>\n",
       "  </tbody>\n",
       "</table>\n",
       "<p>5 rows × 31 columns</p>\n",
       "</div>"
      ],
      "text/plain": [
       "       EJWY      VALM       EGXO      HTGR       SKRF      NNSZ      NYLC  \\\n",
       "0 -2.032145  1.019576  -9.658715 -6.210495   3.156823  7.457850 -5.313357   \n",
       "1  8.306217  6.649376  -0.960333 -4.094799   8.738965 -3.458797  7.016800   \n",
       "2  6.570842  6.985462  -1.842621 -1.569599  10.039339 -3.623026  8.957619   \n",
       "3 -1.139972  0.579422  -9.526530 -5.744928   4.834355  5.907235 -4.804137   \n",
       "4 -1.738104  0.234729 -11.558768 -7.181332   4.189626  7.765274 -2.189083   \n",
       "\n",
       "       GWID      TVUT      CJHI  ...        LKKS       UOBF      VBHE  \\\n",
       "0  8.508296  3.959194 -5.246654  ...   -2.209663 -10.340123 -7.697555   \n",
       "1  6.692765  0.898264  9.337643  ...    0.851793  -9.678324 -6.071795   \n",
       "2  7.577283  1.541255  7.161509  ...    1.376085  -8.971164 -5.302191   \n",
       "3  6.798810  5.403670 -7.642857  ...    0.270571  -8.640988 -8.105419   \n",
       "4  7.239925  3.135602 -6.211390  ...   -0.013973  -9.437110 -6.475267   \n",
       "\n",
       "       FRWU       NDYZ      QSBO      JDUB      TEVK      EZTM  Label  \n",
       "0 -5.932752  10.872688  0.081321  1.276316  5.281225 -0.516447    0.0  \n",
       "1  1.428194  -8.082792 -0.557089 -7.817282 -8.686722 -6.953100    1.0  \n",
       "2  2.898965  -8.746597 -0.520888 -7.350999 -8.925501 -7.051179    1.0  \n",
       "3 -5.079015   9.351282  0.641759  1.898083  3.904671  1.453499    0.0  \n",
       "4 -5.708377   9.623080  1.802899  1.903705  4.188442  1.522362    0.0  \n",
       "\n",
       "[5 rows x 31 columns]"
      ]
     },
     "execution_count": 3,
     "metadata": {},
     "output_type": "execute_result"
    }
   ],
   "source": [
    "df.head()"
   ]
  },
  {
   "cell_type": "code",
   "execution_count": 4,
   "metadata": {},
   "outputs": [
    {
     "name": "stdout",
     "output_type": "stream",
     "text": [
      "<class 'pandas.core.frame.DataFrame'>\n",
      "RangeIndex: 500 entries, 0 to 499\n",
      "Data columns (total 31 columns):\n",
      "EJWY     500 non-null float64\n",
      "VALM     500 non-null float64\n",
      "EGXO     500 non-null float64\n",
      "HTGR     500 non-null float64\n",
      "SKRF     500 non-null float64\n",
      "NNSZ     500 non-null float64\n",
      "NYLC     500 non-null float64\n",
      "GWID     500 non-null float64\n",
      "TVUT     500 non-null float64\n",
      "CJHI     500 non-null float64\n",
      "NVFW     500 non-null float64\n",
      "VLBG     500 non-null float64\n",
      "IDIX     500 non-null float64\n",
      "UVHN     500 non-null float64\n",
      "IWOT     500 non-null float64\n",
      "LEMB     500 non-null float64\n",
      "QMYY     500 non-null float64\n",
      "XDGR     500 non-null float64\n",
      "ODZS     500 non-null float64\n",
      "LNJS     500 non-null float64\n",
      "WDRT     500 non-null float64\n",
      "LKKS     500 non-null float64\n",
      "UOBF     500 non-null float64\n",
      "VBHE     500 non-null float64\n",
      "FRWU     500 non-null float64\n",
      "NDYZ     500 non-null float64\n",
      "QSBO     500 non-null float64\n",
      "JDUB     500 non-null float64\n",
      "TEVK     500 non-null float64\n",
      "EZTM     500 non-null float64\n",
      "Label    500 non-null float64\n",
      "dtypes: float64(31)\n",
      "memory usage: 121.2 KB\n"
     ]
    }
   ],
   "source": [
    "df.info()"
   ]
  },
  {
   "cell_type": "markdown",
   "metadata": {},
   "source": [
    "## Scale the Data\n",
    "\n",
    "** Use scikit learn to scale the data with a MinMaxScaler. Remember not to scale the Label column, just the data. Save this scaled data as a new variable called scaled_data. **"
   ]
  },
  {
   "cell_type": "code",
   "execution_count": 5,
   "metadata": {
    "collapsed": true
   },
   "outputs": [],
   "source": [
    "from sklearn.preprocessing import MinMaxScaler"
   ]
  },
  {
   "cell_type": "code",
   "execution_count": 6,
   "metadata": {
    "collapsed": true
   },
   "outputs": [],
   "source": [
    "scaler = MinMaxScaler()\n",
    "scaled_data = scaler.fit_transform(df.drop('Label', axis=1))"
   ]
  },
  {
   "cell_type": "markdown",
   "metadata": {},
   "source": [
    "# The Linear Autoencoder"
   ]
  },
  {
   "cell_type": "markdown",
   "metadata": {},
   "source": [
    "** Import tensorflow and import fully_connected layers from tensorflow.contrib.layers. **"
   ]
  },
  {
   "cell_type": "code",
   "execution_count": 8,
   "metadata": {
    "collapsed": true
   },
   "outputs": [],
   "source": [
    "import tensorflow as tf\n",
    "from tensorflow.contrib.layers import fully_connected"
   ]
  },
  {
   "cell_type": "markdown",
   "metadata": {},
   "source": [
    "** Fill out the number of inputs to fit the dimensions of the data set and set the hidden number of units to be 2. Also set the number of outputs to match the number of inputs. Also choose a learning_rate value.**"
   ]
  },
  {
   "cell_type": "code",
   "execution_count": 9,
   "metadata": {
    "collapsed": true
   },
   "outputs": [],
   "source": [
    "num_inputs = 30\n",
    "num_hidden = 2\n",
    "num_outputs = num_inputs\n",
    "learning_rate = .01"
   ]
  },
  {
   "cell_type": "markdown",
   "metadata": {},
   "source": [
    "### Placeholder\n",
    "\n",
    "** Create a placeholder fot the data called X.**"
   ]
  },
  {
   "cell_type": "code",
   "execution_count": 10,
   "metadata": {
    "collapsed": true
   },
   "outputs": [],
   "source": [
    "x = tf.placeholder(tf.float32, shape=[None, num_inputs])"
   ]
  },
  {
   "cell_type": "markdown",
   "metadata": {},
   "source": [
    "### Layers\n",
    "\n",
    "** Create the hidden layer and the output layers using the fully_connected function. Remember that to perform PCA there is no activation function.**"
   ]
  },
  {
   "cell_type": "code",
   "execution_count": 12,
   "metadata": {
    "collapsed": true
   },
   "outputs": [],
   "source": [
    "hidden = fully_connected(x, num_hidden, activation_fn=None)\n",
    "outputs = fully_connected(hidden, num_outputs, activation_fn=None)"
   ]
  },
  {
   "cell_type": "markdown",
   "metadata": {},
   "source": [
    "### Loss Function\n",
    "\n",
    "** Create a Mean Squared Error loss function. **"
   ]
  },
  {
   "cell_type": "code",
   "execution_count": 13,
   "metadata": {
    "collapsed": true
   },
   "outputs": [],
   "source": [
    "loss = tf.reduce_mean(tf.square(outputs - x))"
   ]
  },
  {
   "cell_type": "markdown",
   "metadata": {},
   "source": [
    "### Optimizer"
   ]
  },
  {
   "cell_type": "markdown",
   "metadata": {},
   "source": [
    "** Create an AdamOptimizer designed to minimize the previous loss function. **"
   ]
  },
  {
   "cell_type": "code",
   "execution_count": 14,
   "metadata": {
    "collapsed": true
   },
   "outputs": [],
   "source": [
    "optimizer = tf.train.AdamOptimizer(learning_rate)\n",
    "train = optimizer.minimize(loss)"
   ]
  },
  {
   "cell_type": "markdown",
   "metadata": {},
   "source": [
    "### Init\n",
    "\n",
    "** Create an instance of a global variable intializer. **"
   ]
  },
  {
   "cell_type": "code",
   "execution_count": 15,
   "metadata": {
    "collapsed": true
   },
   "outputs": [],
   "source": [
    "init = tf.global_variables_initializer()"
   ]
  },
  {
   "cell_type": "markdown",
   "metadata": {},
   "source": [
    "## Running the Session\n",
    "\n",
    "** Now create a Tensorflow session that runs the optimizer for at least 1000 steps. (You can also use epochs if you prefer, where 1 epoch is defined by one single run through the entire dataset. **"
   ]
  },
  {
   "cell_type": "code",
   "execution_count": 16,
   "metadata": {
    "collapsed": true
   },
   "outputs": [],
   "source": [
    "num_steps = 1000\n",
    "\n",
    "with tf.Session() as s:\n",
    "    s.run(init)\n",
    "    \n",
    "    for iteration in range(num_steps):\n",
    "        s.run(train, feed_dict={x: scaled_data})"
   ]
  },
  {
   "cell_type": "markdown",
   "metadata": {},
   "source": [
    "** Now create a session that runs the scaled data through the hidden layer. (You could have also done this in the last step after all the training steps. **"
   ]
  },
  {
   "cell_type": "code",
   "execution_count": 17,
   "metadata": {
    "collapsed": true
   },
   "outputs": [],
   "source": [
    "with tf.Session() as s:\n",
    "    s.run(init)\n",
    "    \n",
    "    output_2d = hidden.eval(feed_dict={x: scaled_data})"
   ]
  },
  {
   "cell_type": "markdown",
   "metadata": {},
   "source": [
    "** Confirm that your output is now 2 dimensional along the previous axis of 30 features. **"
   ]
  },
  {
   "cell_type": "code",
   "execution_count": 18,
   "metadata": {},
   "outputs": [
    {
     "data": {
      "text/plain": [
       "(500, 2)"
      ]
     },
     "execution_count": 18,
     "metadata": {},
     "output_type": "execute_result"
    }
   ],
   "source": [
    "output_2d.shape"
   ]
  },
  {
   "cell_type": "markdown",
   "metadata": {},
   "source": [
    "** Now plot out the reduced dimensional representation of the data. Do you still have clear separation of classes even with the reduction in dimensions? Hint: You definitely should, the classes should still be clearly seperable, even when reduced to 2 dimensions. **"
   ]
  },
  {
   "cell_type": "code",
   "execution_count": 19,
   "metadata": {},
   "outputs": [
    {
     "data": {
      "text/plain": [
       "<matplotlib.collections.PathCollection at 0x128ba43c8>"
      ]
     },
     "execution_count": 19,
     "metadata": {},
     "output_type": "execute_result"
    },
    {
     "data": {
      "image/png": "[encoded data removed]",
      "text/plain": [
       "<matplotlib.figure.Figure at 0x128ecae10>"
      ]
     },
     "metadata": {},
     "output_type": "display_data"
    }
   ],
   "source": [
    "plt.scatter(output_2d[:, 0], output_2d[:, 1], c=df['Label'])"
   ]
  },
  {
   "cell_type": "markdown",
   "metadata": {},
   "source": [
    "# Great Job!"
   ]
  },
  {
   "cell_type": "code",
   "execution_count": null,
   "metadata": {
    "collapsed": true
   },
   "outputs": [],
   "source": []
  }
 ],
 "metadata": {
  "kernelspec": {
   "display_name": "Python 3",
   "language": "python",
   "name": "python3"
  },
  "language_info": {
   "codemirror_mode": {
    "name": "ipython",
    "version": 3
   },
   "file_extension": ".py",
   "mimetype": "text/x-python",
   "name": "python",
   "nbconvert_exporter": "python",
   "pygments_lexer": "ipython3",
   "version": "3.6.4"
  }
 },
 "nbformat": 4,
 "nbformat_minor": 2
}
