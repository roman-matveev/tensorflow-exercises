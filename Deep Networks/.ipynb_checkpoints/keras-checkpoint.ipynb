{
 "cells": [
  {
   "cell_type": "code",
   "execution_count": 1,
   "metadata": {
    "collapsed": true
   },
   "outputs": [],
   "source": [
    "import tensorflow as tf"
   ]
  },
  {
   "cell_type": "code",
   "execution_count": 2,
   "metadata": {
    "collapsed": true
   },
   "outputs": [],
   "source": [
    "from tensorflow.contrib.keras import models"
   ]
  },
  {
   "cell_type": "code",
   "execution_count": 3,
   "metadata": {
    "collapsed": true
   },
   "outputs": [],
   "source": [
    "dnn_model = models.Sequential()"
   ]
  },
  {
   "cell_type": "code",
   "execution_count": 4,
   "metadata": {
    "collapsed": true
   },
   "outputs": [],
   "source": [
    "from tensorflow.contrib.keras import layers"
   ]
  },
  {
   "cell_type": "code",
   "execution_count": 5,
   "metadata": {
    "collapsed": true
   },
   "outputs": [],
   "source": [
    "dnn_model.add(layers.Dense(units=13, input_dim=13, activation='relu'))"
   ]
  },
  {
   "cell_type": "code",
   "execution_count": 6,
   "metadata": {
    "collapsed": true
   },
   "outputs": [],
   "source": [
    "dnn_model.add(layers.Dense(units=13, activation='relu'))\n",
    "dnn_model.add(layers.Dense(units=13, activation='relu'))"
   ]
  },
  {
   "cell_type": "code",
   "execution_count": 7,
   "metadata": {
    "collapsed": true
   },
   "outputs": [],
   "source": [
    "dnn_model.add(layers.Dense(units=3, activation='softmax'))"
   ]
  },
  {
   "cell_type": "code",
   "execution_count": 8,
   "metadata": {
    "collapsed": true
   },
   "outputs": [],
   "source": [
    "from tensorflow.contrib.keras import losses, optimizers, metrics, activations"
   ]
  },
  {
   "cell_type": "code",
   "execution_count": 9,
   "metadata": {
    "collapsed": true
   },
   "outputs": [],
   "source": [
    "dnn_model.compile(\n",
    "    optimizer='adam', loss='sparse_categorical_crossentropy', metrics=['accuracy'])"
   ]
  },
  {
   "cell_type": "code",
   "execution_count": 11,
   "metadata": {
    "collapsed": true
   },
   "outputs": [],
   "source": [
    "from sklearn.datasets import load_wine\n",
    "wine_data = load_wine()\n",
    "feat_data = wine_data['data']\n",
    "labels = wine_data['target']\n",
    "\n",
    "from sklearn.model_selection import train_test_split\n",
    "x_train, x_test, y_train, y_test = train_test_split(\n",
    "    feat_data, labels, test_size=.3, random_state=101)\n",
    "\n",
    "from sklearn.preprocessing import MinMaxScaler\n",
    "scaler = MinMaxScaler()\n",
    "scaled_x_train = scaler.fit_transform(x_train)\n",
    "scaled_x_test = scaler.transform(x_test)"
   ]
  },
  {
   "cell_type": "code",
   "execution_count": 12,
   "metadata": {
    "scrolled": true
   },
   "outputs": [
    {
     "name": "stdout",
     "output_type": "stream",
     "text": [
      "Epoch 1/50\n",
      "124/124 [==============================] - 1s 4ms/step - loss: 1.0772 - acc: 0.3226\n",
      "Epoch 2/50\n",
      "124/124 [==============================] - 0s 48us/step - loss: 1.0618 - acc: 0.3306\n",
      "Epoch 3/50\n",
      "124/124 [==============================] - 0s 49us/step - loss: 1.0486 - acc: 0.3629\n",
      "Epoch 4/50\n",
      "124/124 [==============================] - 0s 39us/step - loss: 1.0378 - acc: 0.3952\n",
      "Epoch 5/50\n",
      "124/124 [==============================] - 0s 46us/step - loss: 1.0277 - acc: 0.4113\n",
      "Epoch 6/50\n",
      "124/124 [==============================] - 0s 46us/step - loss: 1.0178 - acc: 0.4355\n",
      "Epoch 7/50\n",
      "124/124 [==============================] - 0s 39us/step - loss: 1.0078 - acc: 0.4919\n",
      "Epoch 8/50\n",
      "124/124 [==============================] - 0s 44us/step - loss: 0.9966 - acc: 0.5000\n",
      "Epoch 9/50\n",
      "124/124 [==============================] - 0s 43us/step - loss: 0.9851 - acc: 0.5242\n",
      "Epoch 10/50\n",
      "124/124 [==============================] - 0s 42us/step - loss: 0.9725 - acc: 0.5726\n",
      "Epoch 11/50\n",
      "124/124 [==============================] - 0s 50us/step - loss: 0.9596 - acc: 0.5806\n",
      "Epoch 12/50\n",
      "124/124 [==============================] - 0s 43us/step - loss: 0.9455 - acc: 0.5887\n",
      "Epoch 13/50\n",
      "124/124 [==============================] - 0s 55us/step - loss: 0.9315 - acc: 0.6048\n",
      "Epoch 14/50\n",
      "124/124 [==============================] - 0s 52us/step - loss: 0.9147 - acc: 0.6048\n",
      "Epoch 15/50\n",
      "124/124 [==============================] - 0s 38us/step - loss: 0.8978 - acc: 0.6129\n",
      "Epoch 16/50\n",
      "124/124 [==============================] - 0s 43us/step - loss: 0.8805 - acc: 0.6129\n",
      "Epoch 17/50\n",
      "124/124 [==============================] - 0s 44us/step - loss: 0.8643 - acc: 0.6129\n",
      "Epoch 18/50\n",
      "124/124 [==============================] - 0s 42us/step - loss: 0.8474 - acc: 0.6129\n",
      "Epoch 19/50\n",
      "124/124 [==============================] - 0s 49us/step - loss: 0.8304 - acc: 0.6613\n",
      "Epoch 20/50\n",
      "124/124 [==============================] - 0s 47us/step - loss: 0.8135 - acc: 0.6774\n",
      "Epoch 21/50\n",
      "124/124 [==============================] - 0s 45us/step - loss: 0.7971 - acc: 0.7177\n",
      "Epoch 22/50\n",
      "124/124 [==============================] - 0s 47us/step - loss: 0.7801 - acc: 0.7339\n",
      "Epoch 23/50\n",
      "124/124 [==============================] - 0s 45us/step - loss: 0.7630 - acc: 0.7339\n",
      "Epoch 24/50\n",
      "124/124 [==============================] - 0s 47us/step - loss: 0.7463 - acc: 0.7339\n",
      "Epoch 25/50\n",
      "124/124 [==============================] - 0s 45us/step - loss: 0.7293 - acc: 0.7258\n",
      "Epoch 26/50\n",
      "124/124 [==============================] - 0s 41us/step - loss: 0.7123 - acc: 0.7419\n",
      "Epoch 27/50\n",
      "124/124 [==============================] - 0s 44us/step - loss: 0.6955 - acc: 0.7339\n",
      "Epoch 28/50\n",
      "124/124 [==============================] - 0s 45us/step - loss: 0.6787 - acc: 0.7419\n",
      "Epoch 29/50\n",
      "124/124 [==============================] - 0s 46us/step - loss: 0.6615 - acc: 0.7419\n",
      "Epoch 30/50\n",
      "124/124 [==============================] - 0s 51us/step - loss: 0.6441 - acc: 0.7500\n",
      "Epoch 31/50\n",
      "124/124 [==============================] - 0s 40us/step - loss: 0.6279 - acc: 0.7581\n",
      "Epoch 32/50\n",
      "124/124 [==============================] - 0s 45us/step - loss: 0.6103 - acc: 0.7823\n",
      "Epoch 33/50\n",
      "124/124 [==============================] - 0s 48us/step - loss: 0.5940 - acc: 0.7823\n",
      "Epoch 34/50\n",
      "124/124 [==============================] - 0s 46us/step - loss: 0.5772 - acc: 0.8145\n",
      "Epoch 35/50\n",
      "124/124 [==============================] - 0s 47us/step - loss: 0.5611 - acc: 0.8306\n",
      "Epoch 36/50\n",
      "124/124 [==============================] - 0s 45us/step - loss: 0.5451 - acc: 0.8548\n",
      "Epoch 37/50\n",
      "124/124 [==============================] - 0s 46us/step - loss: 0.5290 - acc: 0.8629\n",
      "Epoch 38/50\n",
      "124/124 [==============================] - 0s 49us/step - loss: 0.5134 - acc: 0.8790\n",
      "Epoch 39/50\n",
      "124/124 [==============================] - 0s 41us/step - loss: 0.4973 - acc: 0.8871\n",
      "Epoch 40/50\n",
      "124/124 [==============================] - 0s 49us/step - loss: 0.4825 - acc: 0.8952\n",
      "Epoch 41/50\n",
      "124/124 [==============================] - 0s 50us/step - loss: 0.4664 - acc: 0.8952\n",
      "Epoch 42/50\n",
      "124/124 [==============================] - 0s 67us/step - loss: 0.4517 - acc: 0.8871\n",
      "Epoch 43/50\n",
      "124/124 [==============================] - 0s 88us/step - loss: 0.4373 - acc: 0.8952\n",
      "Epoch 44/50\n",
      "124/124 [==============================] - 0s 75us/step - loss: 0.4241 - acc: 0.9113\n",
      "Epoch 45/50\n",
      "124/124 [==============================] - 0s 56us/step - loss: 0.4113 - acc: 0.9113\n",
      "Epoch 46/50\n",
      "124/124 [==============================] - 0s 60us/step - loss: 0.3989 - acc: 0.9113\n",
      "Epoch 47/50\n",
      "124/124 [==============================] - 0s 58us/step - loss: 0.3874 - acc: 0.9113\n",
      "Epoch 48/50\n",
      "124/124 [==============================] - 0s 57us/step - loss: 0.3751 - acc: 0.9113\n",
      "Epoch 49/50\n",
      "124/124 [==============================] - 0s 52us/step - loss: 0.3639 - acc: 0.9113\n",
      "Epoch 50/50\n",
      "124/124 [==============================] - 0s 52us/step - loss: 0.3531 - acc: 0.9194\n"
     ]
    },
    {
     "data": {
      "text/plain": [
       "<tensorflow.python.keras.callbacks.History at 0x127b97fd0>"
      ]
     },
     "execution_count": 12,
     "metadata": {},
     "output_type": "execute_result"
    }
   ],
   "source": [
    "dnn_model.fit(scaled_x_train, y_train, epochs=50)"
   ]
  },
  {
   "cell_type": "code",
   "execution_count": 13,
   "metadata": {
    "collapsed": true
   },
   "outputs": [],
   "source": [
    "preds = dnn_model.predict_classes(scaled_x_test)"
   ]
  },
  {
   "cell_type": "code",
   "execution_count": 14,
   "metadata": {
    "collapsed": true
   },
   "outputs": [],
   "source": [
    "from sklearn.metrics import classification_report"
   ]
  },
  {
   "cell_type": "code",
   "execution_count": 15,
   "metadata": {},
   "outputs": [
    {
     "name": "stdout",
     "output_type": "stream",
     "text": [
      "             precision    recall  f1-score   support\n",
      "\n",
      "          0       0.89      0.81      0.85        21\n",
      "          1       0.77      0.89      0.83        19\n",
      "          2       1.00      0.93      0.96        14\n",
      "\n",
      "avg / total       0.88      0.87      0.87        54\n",
      "\n"
     ]
    }
   ],
   "source": [
    "print(classification_report(preds, y_test))"
   ]
  },
  {
   "cell_type": "code",
   "execution_count": null,
   "metadata": {
    "collapsed": true
   },
   "outputs": [],
   "source": []
  }
 ],
 "metadata": {
  "kernelspec": {
   "display_name": "Python 3",
   "language": "python",
   "name": "python3"
  },
  "language_info": {
   "codemirror_mode": {
    "name": "ipython",
    "version": 3
   },
   "file_extension": ".py",
   "mimetype": "text/x-python",
   "name": "python",
   "nbconvert_exporter": "python",
   "pygments_lexer": "ipython3",
   "version": "3.6.4"
  }
 },
 "nbformat": 4,
 "nbformat_minor": 2
}
