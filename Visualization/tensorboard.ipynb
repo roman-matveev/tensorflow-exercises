{
 "cells": [
  {
   "cell_type": "code",
   "execution_count": 7,
   "metadata": {
    "collapsed": true
   },
   "outputs": [],
   "source": [
    "import tensorflow as tf"
   ]
  },
  {
   "cell_type": "code",
   "execution_count": 11,
   "metadata": {},
   "outputs": [],
   "source": [
    "with tf.name_scope('Operation_A'):\n",
    "    a = tf.add(1, 2, name='first_add')\n",
    "    a1 = tf.add(100, 200, name='a_add')\n",
    "    a2 = tf.multiply(a, a1)\n",
    "\n",
    "with tf.name_scope('Operation_B'):\n",
    "    b = tf.add(3, 4, name='second_add')\n",
    "    b1 = tf.add(300, 400, name='b_add')\n",
    "    b2 = tf.multiply(b, b1)\n",
    "\n",
    "c = tf.multiply(a2, b2, name='final_res')"
   ]
  },
  {
   "cell_type": "code",
   "execution_count": 12,
   "metadata": {},
   "outputs": [
    {
     "name": "stdout",
     "output_type": "stream",
     "text": [
      "4410000\n"
     ]
    }
   ],
   "source": [
    "with tf.Session() as s:\n",
    "    writer = tf.summary.FileWriter('./output', s.graph)\n",
    "    print(s.run(c))\n",
    "    writer.close()"
   ]
  },
  {
   "cell_type": "code",
   "execution_count": 13,
   "metadata": {
    "collapsed": true
   },
   "outputs": [],
   "source": [
    "k = tf.placeholder(tf.float32)\n",
    "\n",
    "mean_moving_normal = tf.random_normal(shape=[1000], mean=(5*k), stddev=1)\n",
    "tf.summary.histogram(\"normal/moving_mean\", mean_moving_normal)\n",
    "\n",
    "with tf.Session() as sess:\n",
    "    writer = tf.summary.FileWriter(\"./tmp/histogram_example\")\n",
    "    summaries = tf.summary.merge_all()\n",
    "\n",
    "    N = 400\n",
    "    for step in range(N):\n",
    "        k_val = step/float(N)\n",
    "        summ = sess.run(summaries, feed_dict={k: k_val})\n",
    "        writer.add_summary(summ, global_step=step)\n",
    "        \n",
    "    writer.close()"
   ]
  },
  {
   "cell_type": "code",
   "execution_count": null,
   "metadata": {
    "collapsed": true
   },
   "outputs": [],
   "source": []
  }
 ],
 "metadata": {
  "kernelspec": {
   "display_name": "Python 3",
   "language": "python",
   "name": "python3"
  },
  "language_info": {
   "codemirror_mode": {
    "name": "ipython",
    "version": 3
   },
   "file_extension": ".py",
   "mimetype": "text/x-python",
   "name": "python",
   "nbconvert_exporter": "python",
   "pygments_lexer": "ipython3",
   "version": "3.6.4"
  }
 },
 "nbformat": 4,
 "nbformat_minor": 2
}
